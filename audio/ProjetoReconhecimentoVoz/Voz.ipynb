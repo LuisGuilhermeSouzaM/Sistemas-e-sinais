{
  "cells": [
    {
      "cell_type": "markdown",
      "metadata": {
        "id": "dHs6egShr_TS"
      },
      "source": [
        "# **Bibliotecas**"
      ]
    },
    {
      "cell_type": "code",
      "execution_count": 106,
      "metadata": {
        "colab": {
          "base_uri": "https://localhost:8080/"
        },
        "id": "k5VCSHimuwXD",
        "outputId": "6898dab9-cef2-4022-c91b-b9070b0b8403"
      },
      "outputs": [],
      "source": [
        "###################################################################################################\n",
        "#  Bibliotecas gerais\n",
        "#  Instalação\n",
        "\n",
        "#!pip install xlrd"
      ]
    },
    {
      "cell_type": "code",
      "execution_count": 107,
      "metadata": {
        "id": "IBxMK5jyu7U-"
      },
      "outputs": [],
      "source": [
        "###################################################################################################\n",
        "#  Bibliotecas gerais\n",
        "#  \n",
        "\n",
        "import pandas as pd\n",
        "import numpy as np\n",
        "import matplotlib.pyplot as plt\n",
        "import numpy.linalg as npl\n",
        "from numpy.linalg import matrix_rank"
      ]
    },
    {
      "cell_type": "code",
      "execution_count": 108,
      "metadata": {
        "colab": {
          "base_uri": "https://localhost:8080/"
        },
        "id": "fZ4KEPPomcJs",
        "outputId": "2d05f164-c2fd-44ae-fc4d-365bcdb7ed46"
      },
      "outputs": [],
      "source": [
        "###################################################################################################\n",
        "#  Bibliotecas gráfica\n",
        "#  Instalação\n",
        "\n",
        "#!pip install -U plotly\n",
        "# !pip install plotly==4.8.1\n",
        "\n",
        "# organização da planilha excel\n",
        "\n",
        "#!pip install nltk\n",
        "\n",
        "# Exportando figuras com melhores resoluções\n",
        "\n",
        "#!pip install -U kaleido\n",
        "\n",
        "#!add-apt-repository -y ppa:cran/poppler\n",
        "#!apt-get update\n",
        "#!apt-get install -y libpoppler-cpp-dev\n",
        "#!apt-get install poppler-utils"
      ]
    },
    {
      "cell_type": "code",
      "execution_count": 109,
      "metadata": {
        "id": "jHpSWFh9mwjE"
      },
      "outputs": [],
      "source": [
        "###################################################################################################\n",
        "#  Bibliotecas gráfica\n",
        "# \n",
        "# \n",
        "\n",
        "import plotly.express as px\n",
        "import plotly.figure_factory as ff\n",
        "\n",
        "from plotly.subplots import make_subplots\n",
        "import plotly.graph_objects as go\n",
        "\n",
        "# Diretório de imagens\n",
        "import os\n",
        "if not os.path.exists(\"images\"):\n",
        "    os.mkdir(\"images\")\n"
      ]
    },
    {
      "cell_type": "markdown",
      "metadata": {
        "id": "X3Dl30me1HZD"
      },
      "source": [
        "## **Controle**"
      ]
    },
    {
      "cell_type": "code",
      "execution_count": 110,
      "metadata": {
        "colab": {
          "base_uri": "https://localhost:8080/"
        },
        "id": "6MD7HGs91HAn",
        "outputId": "8c02fb5d-2cd5-40a7-c0b1-a8413d50ccf5"
      },
      "outputs": [],
      "source": [
        "###################################################################################################\n",
        "# Biblioteca de controle e sistemas dinâmicos\n",
        "# Instalação\n",
        "\n",
        "#!git clone https://github.com/python-control/python-control.git\n",
        "\n",
        "#!pip install slycot   # optional\n",
        "#!pip install control\n",
        "\n"
      ]
    },
    {
      "cell_type": "code",
      "execution_count": 111,
      "metadata": {
        "id": "Cvq7M0fhijrj"
      },
      "outputs": [],
      "source": [
        "###################################################################################################\n",
        "# Biblioteca de controle e sistemas dinâmicos\n",
        "# \n",
        "\n",
        "import control\n",
        "from control import impulse_response, step_response\n"
      ]
    },
    {
      "cell_type": "markdown",
      "metadata": {
        "id": "RZsoqRYYlf45"
      },
      "source": [
        "# **Funções proprietárias**"
      ]
    },
    {
      "cell_type": "code",
      "execution_count": 112,
      "metadata": {
        "id": "FO3VjK4Hljbp"
      },
      "outputs": [],
      "source": [
        "def graphics_plot(x, y, y_name, yaxes_title, title='Title', bins=1, x_tick=1, save=False):\n",
        "\n",
        "  '''\n",
        "  y = [y1, y2, y3, y4]\n",
        "\n",
        "  y_name = ['y1 name', 'y2 name', 'y3 name', 'y4 name']\n",
        "\n",
        "  bins = number of bins for x scale\n",
        "\n",
        "  title = 'Title'\n",
        "\n",
        "  yaxes_title = ['Title yaxes1', 'Title yaxes2', 'Title yaxes3', 'Title yaxes4']\n",
        "\n",
        "  x_tick = dtick for axis x\n",
        "\n",
        "  save = True -> save graphics as image (images/title.eps) \n",
        "  '''\n",
        "\n",
        "  # Create figure with secondary y-axis\n",
        "  fig = make_subplots(specs=[[{'secondary_y': True}]])\n",
        "\n",
        "  # Markers\n",
        "  markers = ['circle','star','diamond','x']\n",
        "\n",
        "  # Lines\n",
        "  dash = ['dash','dot','dashdot']\n",
        "\n",
        "  for i, v in enumerate(y):\n",
        "    \n",
        "    if (len(yaxes_title) == 1) | (i < len(y) - 1):\n",
        "      on = False\n",
        "    else:\n",
        "      on = True\n",
        "\n",
        "    if i == 0:\n",
        "      # Add traces\n",
        "      fig.add_trace(\n",
        "          go.Scatter(x=x,\n",
        "          y=v, name=y_name[i],\n",
        "          marker_symbol=markers[i],\n",
        "          marker_size=7,\n",
        "          mode='lines+markers',\n",
        "          line=dict(color='rgb(0, 0, 0)',\n",
        "          width=2)),\n",
        "          # line_shape='spline'),\n",
        "          secondary_y=False)\n",
        "      \n",
        "    else:\n",
        "      # Add traces\n",
        "      fig.add_trace(\n",
        "          go.Scatter(x=x,\n",
        "          y=v, name=y_name[i],\n",
        "          marker_symbol=markers[i],\n",
        "          marker_size=7,\n",
        "          mode='lines+markers',\n",
        "          line=dict(color='rgb(0, 0, 0)',\n",
        "          width=2,dash=dash[i-1])),\n",
        "          # line_shape='spline'),\n",
        "          secondary_y=on)\n",
        "  \n",
        "  # Add figure title\n",
        "  fig.update_layout(title_text=title)\n",
        "  \n",
        "  # Set x-axis title\n",
        "  fig.update_xaxes(title_text='Ano relativo')\n",
        "\n",
        "  # Set y-axes titles\n",
        "  if len(yaxes_title) > 1:\n",
        "    fig.update_yaxes(title_text='<b>'+ yaxes_title[0] +'</b>', secondary_y=False)\n",
        "    fig.update_yaxes(title_text='<b>'+ yaxes_title[1] +'</b>', secondary_y=True)\n",
        "  else:\n",
        "    fig.update_yaxes(title_text='<b>'+ yaxes_title[0] +'</b>', secondary_y=False)\n",
        "\n",
        "  \n",
        "  fig.update_xaxes(showgrid=True, gridwidth=1, gridcolor='black')\n",
        "  fig.update_yaxes(showgrid=False, gridwidth=1, gridcolor='black')\n",
        "\n",
        "  fig.update_xaxes(showline=True, linewidth=2, linecolor='black', mirror=True)\n",
        "  fig.update_yaxes(showline=True, linewidth=2, linecolor='black', mirror=True)\n",
        "\n",
        "  fig.update_layout(\n",
        "      paper_bgcolor='rgba(0,0,0,0)',\n",
        "      plot_bgcolor='rgba(0,0,0,0)'\n",
        "  )\n",
        "\n",
        "  fig.update_layout(\n",
        "      xaxis=dict(\n",
        "      tickmode='linear',\n",
        "      tick0=0,\n",
        "      dtick=x_tick\n",
        "  ))\n",
        "\n",
        "  fig.update_layout(legend=dict(\n",
        "    orientation='h',\n",
        "    yanchor='bottom',\n",
        "    y=1.01,\n",
        "    xanchor='right',\n",
        "    x=0.95\n",
        "  ))\n",
        "\n",
        "  fig.show()\n",
        "\n",
        "  if save:\n",
        "    fig.write_image('images/'+title+'.eps')"
      ]
    },
    {
      "cell_type": "markdown",
      "metadata": {
        "id": "i27P2x9hAou4"
      },
      "source": [
        "## **Geração de elipses para o resultado do GMM**"
      ]
    },
    {
      "cell_type": "code",
      "execution_count": 113,
      "metadata": {
        "id": "r-hIBlUzkkza"
      },
      "outputs": [],
      "source": [
        "def draw_ellipse(position, covariance, ax=None, **kwargs):\n",
        "   \n",
        "    ax = ax or plt.gca()\n",
        "    \n",
        "    # Rotaciona o conjunto de dados para alinhamento com a convariância\n",
        "    if covariance.shape == (2, 2):\n",
        "        U, s, Vt = np.linalg.svd(covariance)\n",
        "        angle = np.degrees(np.arctan2(U[1, 0], U[0, 0]))\n",
        "        width, height = 2 * np.sqrt(s)\n",
        "    else:\n",
        "        angle = 0\n",
        "        width, height = 2 * np.sqrt(covariance)\n",
        "    \n",
        "    # Cria e elipse\n",
        "    for nsig in range(1, 4):\n",
        "        ax.add_patch(Ellipse(position, nsig * width, nsig * height,\n",
        "                             angle, **kwargs))\n",
        "        \n",
        "def plot_gmm(gmm, X, label=True, ax=None):\n",
        "    ax = ax or plt.gca()\n",
        "    labels = gmm.fit(X).predict(X)\n",
        "    if label:\n",
        "        ax.scatter(X[:, 0], X[:, 1], c=labels, s=40, cmap='viridis', zorder=2)\n",
        "    else:\n",
        "        ax.scatter(X[:, 0], X[:, 1], s=40, zorder=2)\n",
        "    ax.axis('equal')\n",
        "    \n",
        "    w_factor = 0.2 / gmm.weights_.max()\n",
        "    for pos, covar, w in zip(gmm.means_, gmm.covariances_, gmm.weights_):\n",
        "        draw_ellipse(pos, covar, alpha=w * w_factor)"
      ]
    },
    {
      "cell_type": "markdown",
      "metadata": {
        "id": "StyUcMaIXvPU"
      },
      "source": [
        "# **Dados**"
      ]
    },
    {
      "cell_type": "code",
      "execution_count": 114,
      "metadata": {
        "colab": {
          "base_uri": "https://localhost:8080/",
          "height": 204
        },
        "id": "FtnIzv-rXxN_",
        "outputId": "19999346-1729-4bb8-f756-e0a09d8be765"
      },
      "outputs": [
        {
          "data": {
            "text/html": [
              "<div>\n",
              "<style scoped>\n",
              "    .dataframe tbody tr th:only-of-type {\n",
              "        vertical-align: middle;\n",
              "    }\n",
              "\n",
              "    .dataframe tbody tr th {\n",
              "        vertical-align: top;\n",
              "    }\n",
              "\n",
              "    .dataframe thead th {\n",
              "        text-align: right;\n",
              "    }\n",
              "</style>\n",
              "<table border=\"1\" class=\"dataframe\">\n",
              "  <thead>\n",
              "    <tr style=\"text-align: right;\">\n",
              "      <th></th>\n",
              "      <th>Genero</th>\n",
              "      <th>Locutor</th>\n",
              "      <th>Tentativa</th>\n",
              "      <th>Fonema</th>\n",
              "      <th>fo</th>\n",
              "      <th>f1</th>\n",
              "      <th>f2</th>\n",
              "      <th>f3</th>\n",
              "    </tr>\n",
              "  </thead>\n",
              "  <tbody>\n",
              "    <tr>\n",
              "      <th>0</th>\n",
              "      <td>1</td>\n",
              "      <td>1</td>\n",
              "      <td>1</td>\n",
              "      <td>IY</td>\n",
              "      <td>160.0</td>\n",
              "      <td>240.0</td>\n",
              "      <td>2280.0</td>\n",
              "      <td>2850.0</td>\n",
              "    </tr>\n",
              "    <tr>\n",
              "      <th>1</th>\n",
              "      <td>1</td>\n",
              "      <td>1</td>\n",
              "      <td>1</td>\n",
              "      <td>IY</td>\n",
              "      <td>186.0</td>\n",
              "      <td>280.0</td>\n",
              "      <td>2400.0</td>\n",
              "      <td>2790.0</td>\n",
              "    </tr>\n",
              "    <tr>\n",
              "      <th>2</th>\n",
              "      <td>1</td>\n",
              "      <td>1</td>\n",
              "      <td>2</td>\n",
              "      <td>IH</td>\n",
              "      <td>203.0</td>\n",
              "      <td>390.0</td>\n",
              "      <td>2030.0</td>\n",
              "      <td>2640.0</td>\n",
              "    </tr>\n",
              "    <tr>\n",
              "      <th>3</th>\n",
              "      <td>1</td>\n",
              "      <td>1</td>\n",
              "      <td>2</td>\n",
              "      <td>IH</td>\n",
              "      <td>192.0</td>\n",
              "      <td>310.0</td>\n",
              "      <td>1980.0</td>\n",
              "      <td>2550.0</td>\n",
              "    </tr>\n",
              "    <tr>\n",
              "      <th>4</th>\n",
              "      <td>1</td>\n",
              "      <td>1</td>\n",
              "      <td>3</td>\n",
              "      <td>EH</td>\n",
              "      <td>161.0</td>\n",
              "      <td>490.0</td>\n",
              "      <td>1870.0</td>\n",
              "      <td>2420.0</td>\n",
              "    </tr>\n",
              "  </tbody>\n",
              "</table>\n",
              "</div>"
            ],
            "text/plain": [
              "   Genero  Locutor  Tentativa Fonema     fo     f1      f2      f3\n",
              "0       1        1          1     IY  160.0  240.0  2280.0  2850.0\n",
              "1       1        1          1     IY  186.0  280.0  2400.0  2790.0\n",
              "2       1        1          2     IH  203.0  390.0  2030.0  2640.0\n",
              "3       1        1          2     IH  192.0  310.0  1980.0  2550.0\n",
              "4       1        1          3     EH  161.0  490.0  1870.0  2420.0"
            ]
          },
          "execution_count": 114,
          "metadata": {},
          "output_type": "execute_result"
        }
      ],
      "source": [
        "###################################################################################################\n",
        "# Lendo os dados\n",
        "\n",
        "vogais = pd.read_csv(\"testandodetector.csv\")\n",
        "vogais.head()"
      ]
    },
    {
      "cell_type": "code",
      "execution_count": 115,
      "metadata": {
        "colab": {
          "base_uri": "https://localhost:8080/",
          "height": 295
        },
        "id": "CnQh0LJ6Zw1y",
        "outputId": "199f8118-06d5-4ce3-bde3-106dfab426bd"
      },
      "outputs": [
        {
          "data": {
            "image/png": "[encoded data removed]",
            "text/plain": [
              "<Figure size 432x288 with 1 Axes>"
            ]
          },
          "metadata": {
            "needs_background": "light"
          },
          "output_type": "display_data"
        }
      ],
      "source": [
        "###################################################################################################\n",
        "# Análise elementar dos dados\n",
        "\n",
        "### Análise por genero\n",
        "\n",
        "Homem   = vogais['Genero'] == 1\n",
        "Mulher  = vogais['Genero'] == 2\n",
        "Crianca = vogais['Genero'] == 3\n",
        "\n",
        "vogais[Homem].describe()\n",
        "vogais[Mulher].describe()\n",
        "vogais[Crianca].describe()\n",
        "\n",
        "### Separando os dataframes por genero\n",
        "\n",
        "vogaisH = vogais[Homem]\n",
        "vogaisM = vogais[Mulher]\n",
        "vogaisC = vogais[Crianca]\n",
        "\n",
        "### Capturando os tipos de fonemas\n",
        "\n",
        "fonemas = vogais['Fonema'].unique()\n",
        "\n",
        "### Analisando o espalhamento ntre os homens para o primeiro fonema\n",
        "\n",
        "formante1 = np.array(vogais['f1'][Homem])\n",
        "formante2 = np.array(vogais['f2'][Homem])\n",
        "\n",
        "### Gráficamente\n",
        "\n",
        "plt.scatter(formante1, formante2, alpha=0.5)\n",
        "plt.title('Formantes')\n",
        "plt.xlabel('Formante 1 em Hz')\n",
        "plt.ylabel('Formante 2 em Hz')\n",
        "plt.show()"
      ]
    },
    {
      "cell_type": "code",
      "execution_count": 116,
      "metadata": {
        "id": "QRDhx3fq35dP"
      },
      "outputs": [],
      "source": [
        "###################################################################################################\n",
        "# Codifica os fonemas\n",
        "# !pip install sklearn\n",
        "from sklearn.preprocessing import OrdinalEncoder\n",
        "\n",
        "ord_enc = OrdinalEncoder()\n",
        "vogais[\"Codigo\"] = ord_enc.fit_transform(vogais[[\"Fonema\"]])"
      ]
    },
    {
      "cell_type": "code",
      "execution_count": 117,
      "metadata": {
        "colab": {
          "base_uri": "https://localhost:8080/",
          "height": 559
        },
        "id": "FSRVfErL-azI",
        "outputId": "18b882ea-89a3-43cb-a76e-ed260d9c95dd"
      },
      "outputs": [
        {
          "data": {
            "application/vnd.plotly.v1+json": {
              "config": {
                "plotlyServerURL": "https://plot.ly"
              },
              "data": [
                {
                  "hovertemplate": "Fonema=IY<br>f1=%{x}<br>f2=%{y}<extra></extra>",
                  "legendgroup": "IY",
                  "marker": {
                    "color": "#636efa",
                    "symbol": "circle"
                  },
                  "mode": "markers",
                  "name": "IY",
                  "orientation": "v",
                  "showlegend": true,
                  "type": "scatter",
                  "x": [
                    240,
                    280,
                    220,
                    210,
                    250,
                    244,
                    300,
                    280,
                    310,
                    260,
                    312,
                    330,
                    320,
                    310,
                    218,
                    316,
                    280,
                    260,
                    250,
                    248,
                    238,
                    220,
                    240,
                    290,
                    260,
                    228,
                    220,
                    230,
                    240,
                    300,
                    300,
                    264,
                    256,
                    210,
                    220,
                    190,
                    190,
                    250,
                    260,
                    280,
                    300,
                    300,
                    350,
                    240,
                    240,
                    280,
                    288,
                    250,
                    254,
                    246,
                    267,
                    275,
                    270,
                    320,
                    267,
                    333,
                    326,
                    267,
                    220,
                    312,
                    300,
                    292,
                    266,
                    286,
                    300
                  ],
                  "xaxis": "x",
                  "y": [
                    2280,
                    2400,
                    2220,
                    2360,
                    2180,
                    2300,
                    2240,
                    2450,
                    2310,
                    2250,
                    2350,
                    2430,
                    2320,
                    2280,
                    2380,
                    2200,
                    2275,
                    2260,
                    2200,
                    2225,
                    2175,
                    2410,
                    2440,
                    2290,
                    2290,
                    2350,
                    2350,
                    2100,
                    2000,
                    2355,
                    2460,
                    2290,
                    2305,
                    2100,
                    2080,
                    2650,
                    2700,
                    2180,
                    2210,
                    2400,
                    2320,
                    2300,
                    2240,
                    2100,
                    2150,
                    2450,
                    2500,
                    2190,
                    2085,
                    2185,
                    2280,
                    2060,
                    2020,
                    2160,
                    2230,
                    2305,
                    2260,
                    2300,
                    2300,
                    2380,
                    2350,
                    2500,
                    2370,
                    2415,
                    2415
                  ],
                  "yaxis": "y"
                },
                {
                  "hovertemplate": "Fonema=IH<br>f1=%{x}<br>f2=%{y}<extra></extra>",
                  "legendgroup": "IH",
                  "marker": {
                    "color": "#EF553B",
                    "symbol": "circle"
                  },
                  "mode": "markers",
                  "name": "IH",
                  "orientation": "v",
                  "showlegend": true,
                  "type": "scatter",
                  "x": [
                    390,
                    310,
                    410,
                    420,
                    400,
                    400,
                    440,
                    440,
                    430,
                    420,
                    313,
                    410,
                    206,
                    450,
                    434,
                    400,
                    389,
                    405,
                    416,
                    450,
                    380,
                    390,
                    365,
                    300,
                    385,
                    407,
                    380,
                    346,
                    280,
                    310,
                    370,
                    370,
                    400,
                    350,
                    450,
                    380,
                    430,
                    400,
                    384,
                    330,
                    430,
                    420,
                    384,
                    349,
                    340,
                    440,
                    390,
                    431,
                    360,
                    490,
                    372,
                    350
                  ],
                  "xaxis": "x",
                  "y": [
                    2030,
                    1980,
                    1890,
                    1850,
                    1930,
                    1990,
                    2050,
                    2060,
                    1880,
                    2000,
                    2000,
                    2040,
                    2130,
                    1820,
                    1850,
                    2040,
                    2000,
                    1925,
                    1940,
                    1880,
                    1930,
                    1950,
                    1900,
                    2040,
                    2242,
                    2250,
                    1880,
                    1930,
                    2000,
                    1950,
                    1750,
                    1800,
                    1900,
                    1980,
                    2050,
                    1870,
                    1710,
                    2080,
                    2110,
                    1967,
                    1940,
                    2300,
                    2110,
                    2030,
                    1940,
                    1750,
                    1780,
                    2040,
                    2010,
                    2000,
                    2220,
                    2130
                  ],
                  "yaxis": "y"
                },
                {
                  "hovertemplate": "Fonema=EH<br>f1=%{x}<br>f2=%{y}<extra></extra>",
                  "legendgroup": "EH",
                  "marker": {
                    "color": "#00cc96",
                    "symbol": "circle"
                  },
                  "mode": "markers",
                  "name": "EH",
                  "orientation": "v",
                  "showlegend": true,
                  "type": "scatter",
                  "x": [
                    490,
                    500,
                    550,
                    540,
                    570,
                    555,
                    580,
                    550,
                    600,
                    570,
                    614,
                    582,
                    586,
                    500,
                    500,
                    560,
                    560,
                    445,
                    470,
                    504,
                    543,
                    510,
                    520,
                    470,
                    540,
                    540,
                    464,
                    504,
                    480,
                    525,
                    520,
                    540,
                    640,
                    555,
                    553
                  ],
                  "xaxis": "x",
                  "y": [
                    1870,
                    1760,
                    1810,
                    1810,
                    1780,
                    1890,
                    1910,
                    1770,
                    1860,
                    1830,
                    1840,
                    1725,
                    1800,
                    1870,
                    1775,
                    1650,
                    1720,
                    2020,
                    2020,
                    2090,
                    1980,
                    1780,
                    1730,
                    1910,
                    1900,
                    1920,
                    2100,
                    1995,
                    1920,
                    1800,
                    1750,
                    2000,
                    2000,
                    1870,
                    1935
                  ],
                  "yaxis": "y"
                },
                {
                  "hovertemplate": "Fonema=*EH<br>f1=%{x}<br>f2=%{y}<extra></extra>",
                  "legendgroup": "*EH",
                  "marker": {
                    "color": "#ab63fa",
                    "symbol": "circle"
                  },
                  "mode": "markers",
                  "name": "*EH",
                  "orientation": "v",
                  "showlegend": true,
                  "type": "scatter",
                  "x": [
                    570,
                    510,
                    630,
                    430,
                    515,
                    588,
                    586,
                    490,
                    500,
                    440,
                    410,
                    490,
                    370,
                    375,
                    560,
                    530,
                    580,
                    520,
                    580,
                    570,
                    590,
                    583,
                    551,
                    444,
                    380,
                    500,
                    480,
                    565,
                    574,
                    563,
                    525
                  ],
                  "xaxis": "x",
                  "y": [
                    1700,
                    1710,
                    1900,
                    2100,
                    1760,
                    1790,
                    1725,
                    1740,
                    1780,
                    1980,
                    2050,
                    1930,
                    1680,
                    1700,
                    1670,
                    1700,
                    1870,
                    1900,
                    1770,
                    1750,
                    1900,
                    1840,
                    1788,
                    1800,
                    1800,
                    1980,
                    1950,
                    1950,
                    1840,
                    1960,
                    1988
                  ],
                  "yaxis": "y"
                },
                {
                  "hovertemplate": "Fonema=*AE<br>f1=%{x}<br>f2=%{y}<extra></extra>",
                  "legendgroup": "*AE",
                  "marker": {
                    "color": "#FFA15A",
                    "symbol": "circle"
                  },
                  "mode": "markers",
                  "name": "*AE",
                  "orientation": "v",
                  "showlegend": true,
                  "type": "scatter",
                  "x": [
                    560,
                    514,
                    552,
                    582,
                    620,
                    550,
                    530,
                    760,
                    622,
                    600
                  ],
                  "xaxis": "x",
                  "y": [
                    1820,
                    2060,
                    1820,
                    1775,
                    1710,
                    1570,
                    1610,
                    1580,
                    1890,
                    2000
                  ],
                  "yaxis": "y"
                },
                {
                  "hovertemplate": "Fonema=AE<br>f1=%{x}<br>f2=%{y}<extra></extra>",
                  "legendgroup": "AE",
                  "marker": {
                    "color": "#19d3f3",
                    "symbol": "circle"
                  },
                  "mode": "markers",
                  "name": "AE",
                  "orientation": "v",
                  "showlegend": true,
                  "type": "scatter",
                  "x": [
                    630,
                    690,
                    700,
                    630,
                    658,
                    750,
                    770,
                    830,
                    750,
                    676,
                    725,
                    740,
                    775,
                    600,
                    660,
                    624,
                    725,
                    710,
                    680,
                    630,
                    660,
                    670,
                    721,
                    750,
                    660,
                    680,
                    708,
                    630,
                    630,
                    640,
                    650,
                    680,
                    620,
                    620,
                    690,
                    760,
                    670,
                    715,
                    680,
                    685,
                    595,
                    670,
                    628,
                    688,
                    660,
                    660,
                    720,
                    640,
                    615,
                    590,
                    697,
                    684,
                    650,
                    663,
                    640,
                    640
                  ],
                  "xaxis": "x",
                  "y": [
                    1700,
                    1610,
                    1690,
                    1710,
                    1755,
                    1610,
                    1580,
                    1720,
                    1690,
                    1670,
                    1687,
                    1800,
                    1810,
                    1750,
                    1650,
                    1700,
                    1700,
                    1650,
                    1720,
                    1680,
                    1630,
                    1630,
                    1680,
                    1710,
                    1800,
                    1958,
                    1840,
                    1770,
                    1642,
                    1620,
                    1580,
                    1470,
                    1580,
                    1800,
                    1820,
                    1920,
                    1850,
                    1500,
                    1850,
                    1780,
                    1900,
                    1860,
                    1837,
                    1600,
                    1570,
                    1600,
                    1680,
                    1710,
                    1720,
                    1950,
                    1610,
                    1634,
                    1738,
                    1820,
                    1773,
                    1840
                  ],
                  "yaxis": "y"
                },
                {
                  "hovertemplate": "Fonema=AH<br>f1=%{x}<br>f2=%{y}<extra></extra>",
                  "legendgroup": "AH",
                  "marker": {
                    "color": "#FF6692",
                    "symbol": "circle"
                  },
                  "mode": "markers",
                  "name": "AH",
                  "orientation": "v",
                  "showlegend": true,
                  "type": "scatter",
                  "x": [
                    590,
                    620,
                    612,
                    660,
                    630,
                    650,
                    726,
                    640,
                    640,
                    624,
                    641,
                    650,
                    672,
                    627,
                    600,
                    600,
                    660,
                    660,
                    675,
                    704,
                    601,
                    610,
                    620,
                    620,
                    680,
                    660,
                    620,
                    630,
                    628,
                    617,
                    550,
                    600,
                    583,
                    633,
                    600,
                    672,
                    658
                  ],
                  "xaxis": "x",
                  "y": [
                    1250,
                    1300,
                    1160,
                    1200,
                    1300,
                    1170,
                    1270,
                    1250,
                    1300,
                    1350,
                    1120,
                    1220,
                    1260,
                    1038,
                    1220,
                    1210,
                    1000,
                    960,
                    1320,
                    1393,
                    1273,
                    1100,
                    1120,
                    1100,
                    1290,
                    1370,
                    1200,
                    1127,
                    1254,
                    1255,
                    1150,
                    1250,
                    1110,
                    1260,
                    1370,
                    1272,
                    1241
                  ],
                  "yaxis": "y"
                },
                {
                  "hovertemplate": "Fonema=AA<br>f1=%{x}<br>f2=%{y}<extra></extra>",
                  "legendgroup": "AA",
                  "marker": {
                    "color": "#B6E880",
                    "symbol": "circle"
                  },
                  "mode": "markers",
                  "name": "AA",
                  "orientation": "v",
                  "showlegend": true,
                  "type": "scatter",
                  "x": [
                    740,
                    800,
                    650,
                    670,
                    640,
                    720,
                    750,
                    800,
                    760,
                    740,
                    650,
                    708,
                    750,
                    777,
                    740,
                    670,
                    686,
                    825,
                    840,
                    703,
                    740,
                    750,
                    710,
                    770,
                    750,
                    740,
                    712,
                    670,
                    860,
                    777,
                    750,
                    730,
                    730,
                    752,
                    735,
                    713,
                    780,
                    788
                  ],
                  "xaxis": "x",
                  "y": [
                    1070,
                    1060,
                    1040,
                    1100,
                    1080,
                    1090,
                    1100,
                    1120,
                    1220,
                    1100,
                    980,
                    1054,
                    1080,
                    1026,
                    1240,
                    1100,
                    1078,
                    1168,
                    1210,
                    1092,
                    1110,
                    1160,
                    950,
                    1140,
                    1160,
                    1155,
                    1024,
                    1080,
                    1280,
                    1170,
                    1175,
                    1130,
                    1203,
                    1125,
                    1070,
                    1180,
                    1170,
                    1115
                  ],
                  "yaxis": "y"
                },
                {
                  "hovertemplate": "Fonema=*AO<br>f1=%{x}<br>f2=%{y}<extra></extra>",
                  "legendgroup": "*AO",
                  "marker": {
                    "color": "#FF97FF",
                    "symbol": "circle"
                  },
                  "mode": "markers",
                  "name": "*AO",
                  "orientation": "v",
                  "showlegend": true,
                  "type": "scatter",
                  "x": [
                    600,
                    660,
                    660,
                    720,
                    590,
                    560,
                    600,
                    580,
                    671,
                    690,
                    560,
                    600,
                    670,
                    570,
                    494,
                    630,
                    572,
                    600,
                    640,
                    700,
                    633,
                    600
                  ],
                  "xaxis": "x",
                  "y": [
                    970,
                    980,
                    1030,
                    960,
                    965,
                    924,
                    920,
                    910,
                    1000,
                    968,
                    860,
                    970,
                    920,
                    850,
                    789,
                    891,
                    924,
                    900,
                    890,
                    1000,
                    891,
                    935
                  ],
                  "yaxis": "y"
                },
                {
                  "hovertemplate": "Fonema=UH<br>f1=%{x}<br>f2=%{y}<extra></extra>",
                  "legendgroup": "UH",
                  "marker": {
                    "color": "#FECB52",
                    "symbol": "circle"
                  },
                  "mode": "markers",
                  "name": "UH",
                  "orientation": "v",
                  "showlegend": true,
                  "type": "scatter",
                  "x": [
                    440,
                    400,
                    450,
                    410,
                    460,
                    456,
                    460,
                    460,
                    470,
                    490,
                    456,
                    450,
                    467,
                    475,
                    500,
                    500,
                    461,
                    495,
                    430,
                    400,
                    420,
                    440,
                    448,
                    410,
                    390,
                    360,
                    443,
                    459,
                    420,
                    422,
                    320,
                    360,
                    400,
                    430,
                    430,
                    550,
                    390,
                    460,
                    380,
                    470,
                    400,
                    450,
                    465,
                    462,
                    360,
                    455,
                    456,
                    438,
                    420,
                    450,
                    456,
                    480,
                    420,
                    420,
                    490,
                    492
                  ],
                  "xaxis": "x",
                  "y": [
                    1120,
                    1070,
                    940,
                    830,
                    1150,
                    1030,
                    960,
                    1000,
                    1040,
                    990,
                    1080,
                    1140,
                    1110,
                    1220,
                    1000,
                    1000,
                    993,
                    1080,
                    1030,
                    1200,
                    1230,
                    1030,
                    980,
                    940,
                    730,
                    740,
                    1273,
                    1286,
                    1100,
                    1200,
                    770,
                    860,
                    840,
                    1130,
                    1150,
                    970,
                    900,
                    920,
                    1060,
                    1220,
                    1020,
                    1028,
                    990,
                    976,
                    1028,
                    970,
                    1040,
                    975,
                    938,
                    1000,
                    1040,
                    1120,
                    1100,
                    1120,
                    1102,
                    1077
                  ],
                  "yaxis": "y"
                },
                {
                  "hovertemplate": "Fonema=UW<br>f1=%{x}<br>f2=%{y}<extra></extra>",
                  "legendgroup": "UW",
                  "marker": {
                    "color": "#636efa",
                    "symbol": "circle"
                  },
                  "mode": "markers",
                  "name": "UW",
                  "orientation": "v",
                  "showlegend": true,
                  "type": "scatter",
                  "x": [
                    240,
                    270,
                    280,
                    260,
                    340,
                    380,
                    385,
                    380,
                    330,
                    313,
                    288,
                    380,
                    270,
                    260,
                    334,
                    312,
                    280,
                    266,
                    290,
                    315,
                    300,
                    260,
                    350,
                    380,
                    232,
                    222,
                    260,
                    260,
                    395,
                    400,
                    315,
                    326,
                    210,
                    240,
                    250,
                    210,
                    280,
                    250,
                    280,
                    290,
                    300,
                    230,
                    250,
                    270,
                    324,
                    290,
                    392,
                    350,
                    324,
                    387,
                    294,
                    280,
                    350,
                    366,
                    333,
                    320,
                    333,
                    280,
                    350,
                    350,
                    320,
                    320
                  ],
                  "xaxis": "x",
                  "y": [
                    1040,
                    930,
                    650,
                    660,
                    950,
                    950,
                    850,
                    950,
                    800,
                    838,
                    938,
                    1040,
                    910,
                    975,
                    1150,
                    1020,
                    950,
                    920,
                    760,
                    850,
                    900,
                    1010,
                    720,
                    740,
                    696,
                    665,
                    720,
                    740,
                    1300,
                    1320,
                    1080,
                    1125,
                    670,
                    730,
                    1000,
                    960,
                    670,
                    720,
                    990,
                    1000,
                    600,
                    570,
                    690,
                    650,
                    800,
                    800,
                    1000,
                    898,
                    708,
                    786,
                    930,
                    1000,
                    820,
                    772,
                    800,
                    840,
                    835,
                    750,
                    1000,
                    980,
                    918,
                    960
                  ],
                  "yaxis": "y"
                },
                {
                  "hovertemplate": "Fonema=ER<br>f1=%{x}<br>f2=%{y}<extra></extra>",
                  "legendgroup": "ER",
                  "marker": {
                    "color": "#EF553B",
                    "symbol": "circle"
                  },
                  "mode": "markers",
                  "name": "ER",
                  "orientation": "v",
                  "showlegend": true,
                  "type": "scatter",
                  "x": [
                    370,
                    460,
                    510,
                    510,
                    500,
                    530,
                    590,
                    555,
                    560,
                    510,
                    503,
                    505,
                    570,
                    565,
                    460,
                    425,
                    518,
                    504,
                    500,
                    532,
                    511,
                    530,
                    400,
                    360,
                    430,
                    440,
                    432,
                    420,
                    450,
                    460,
                    532,
                    538,
                    444,
                    469,
                    390,
                    420,
                    360,
                    370,
                    480,
                    470,
                    420,
                    450,
                    560,
                    540,
                    540,
                    510,
                    560,
                    600,
                    547,
                    512,
                    488,
                    472,
                    440,
                    480,
                    472,
                    480,
                    483,
                    488,
                    490,
                    539,
                    549,
                    554,
                    484,
                    543,
                    508
                  ],
                  "xaxis": "x",
                  "y": [
                    1520,
                    1330,
                    1210,
                    1130,
                    1370,
                    1330,
                    1400,
                    1430,
                    1510,
                    1460,
                    1305,
                    1320,
                    1300,
                    1370,
                    1400,
                    1410,
                    1305,
                    1210,
                    1340,
                    1275,
                    1561,
                    1450,
                    1450,
                    1410,
                    1370,
                    1360,
                    1300,
                    1300,
                    1230,
                    1300,
                    1500,
                    1460,
                    1300,
                    1288,
                    1320,
                    1240,
                    1300,
                    1300,
                    1410,
                    1330,
                    1350,
                    1350,
                    1520,
                    1570,
                    1280,
                    1280,
                    1350,
                    1470,
                    1340,
                    1280,
                    1468,
                    1465,
                    1250,
                    1160,
                    1430,
                    1320,
                    1335,
                    1300,
                    1380,
                    1370,
                    1353,
                    1480,
                    1505,
                    1310,
                    1309
                  ],
                  "yaxis": "y"
                },
                {
                  "hovertemplate": "Fonema=*AH<br>f1=%{x}<br>f2=%{y}<extra></extra>",
                  "legendgroup": "*AH",
                  "marker": {
                    "color": "#00cc96",
                    "symbol": "circle"
                  },
                  "mode": "markers",
                  "name": "*AH",
                  "orientation": "v",
                  "showlegend": true,
                  "type": "scatter",
                  "x": [
                    650,
                    625,
                    600,
                    675,
                    680,
                    620,
                    626,
                    586,
                    560,
                    560,
                    552,
                    580,
                    590,
                    570,
                    590,
                    640,
                    630,
                    810,
                    770,
                    620,
                    650,
                    680,
                    565,
                    575,
                    608,
                    630,
                    630,
                    660,
                    625
                  ],
                  "xaxis": "x",
                  "y": [
                    1080,
                    1060,
                    1200,
                    1140,
                    1150,
                    1240,
                    1125,
                    1078,
                    1430,
                    1390,
                    1122,
                    1150,
                    1283,
                    1050,
                    1100,
                    1110,
                    1200,
                    1110,
                    1150,
                    880,
                    1000,
                    1300,
                    1157,
                    1170,
                    1120,
                    1140,
                    1170,
                    1213,
                    1312
                  ],
                  "yaxis": "y"
                },
                {
                  "hovertemplate": "Fonema=AO<br>f1=%{x}<br>f2=%{y}<extra></extra>",
                  "legendgroup": "AO",
                  "marker": {
                    "color": "#ab63fa",
                    "symbol": "circle"
                  },
                  "mode": "markers",
                  "name": "AO",
                  "orientation": "v",
                  "showlegend": true,
                  "type": "scatter",
                  "x": [
                    580,
                    560,
                    550,
                    540,
                    540,
                    555,
                    540,
                    550,
                    430,
                    510,
                    578,
                    614,
                    600,
                    580,
                    585,
                    560,
                    510,
                    480,
                    560,
                    550,
                    500,
                    550,
                    565,
                    584,
                    460,
                    470,
                    570,
                    560,
                    610,
                    650,
                    460,
                    470,
                    500,
                    600,
                    460,
                    510,
                    504,
                    550,
                    550,
                    560,
                    584,
                    507,
                    538,
                    625
                  ],
                  "xaxis": "x",
                  "y": [
                    580,
                    560,
                    870,
                    840,
                    850,
                    890,
                    970,
                    880,
                    720,
                    800,
                    970,
                    848,
                    860,
                    800,
                    819,
                    840,
                    720,
                    710,
                    665,
                    650,
                    620,
                    700,
                    780,
                    849,
                    720,
                    690,
                    820,
                    790,
                    840,
                    880,
                    610,
                    710,
                    800,
                    1000,
                    740,
                    700,
                    756,
                    913,
                    890,
                    810,
                    840,
                    755,
                    816,
                    875
                  ],
                  "yaxis": "y"
                },
                {
                  "hovertemplate": "Fonema=*UW<br>f1=%{x}<br>f2=%{y}<extra></extra>",
                  "legendgroup": "*UW",
                  "marker": {
                    "color": "#FFA15A",
                    "symbol": "circle"
                  },
                  "mode": "markers",
                  "name": "*UW",
                  "orientation": "v",
                  "showlegend": true,
                  "type": "scatter",
                  "x": [
                    326,
                    400,
                    344,
                    320
                  ],
                  "xaxis": "x",
                  "y": [
                    900,
                    1000,
                    960,
                    960
                  ],
                  "yaxis": "y"
                },
                {
                  "hovertemplate": "Fonema=*IH<br>f1=%{x}<br>f2=%{y}<extra></extra>",
                  "legendgroup": "*IH",
                  "marker": {
                    "color": "#19d3f3",
                    "symbol": "circle"
                  },
                  "mode": "markers",
                  "name": "*IH",
                  "orientation": "v",
                  "showlegend": true,
                  "type": "scatter",
                  "x": [
                    450,
                    470,
                    320,
                    400,
                    407,
                    420,
                    410,
                    410,
                    440,
                    375,
                    400,
                    490,
                    400,
                    407
                  ],
                  "xaxis": "x",
                  "y": [
                    1960,
                    2000,
                    2200,
                    1900,
                    2070,
                    1900,
                    2060,
                    2200,
                    2080,
                    2188,
                    2150,
                    1960,
                    1980,
                    2095
                  ],
                  "yaxis": "y"
                },
                {
                  "hovertemplate": "Fonema=*AA<br>f1=%{x}<br>f2=%{y}<extra></extra>",
                  "legendgroup": "*AA",
                  "marker": {
                    "color": "#FF6692",
                    "symbol": "circle"
                  },
                  "mode": "markers",
                  "name": "*AA",
                  "orientation": "v",
                  "showlegend": true,
                  "type": "scatter",
                  "x": [
                    720,
                    670,
                    650,
                    714,
                    650,
                    705,
                    725,
                    746,
                    800,
                    680,
                    700,
                    600,
                    620,
                    750,
                    700,
                    670,
                    640,
                    670,
                    630,
                    670,
                    700,
                    700,
                    690,
                    760,
                    690,
                    630,
                    730,
                    730
                  ],
                  "xaxis": "x",
                  "y": [
                    1260,
                    960,
                    970,
                    1170,
                    1150,
                    1050,
                    1046,
                    1018,
                    1330,
                    1120,
                    1050,
                    830,
                    820,
                    1150,
                    1100,
                    1100,
                    970,
                    980,
                    980,
                    940,
                    1060,
                    1040,
                    960,
                    1260,
                    1072,
                    1000,
                    1160,
                    1048
                  ],
                  "yaxis": "y"
                },
                {
                  "hovertemplate": "Fonema=*UH<br>f1=%{x}<br>f2=%{y}<extra></extra>",
                  "legendgroup": "*UH",
                  "marker": {
                    "color": "#B6E880",
                    "symbol": "circle"
                  },
                  "mode": "markers",
                  "name": "*UH",
                  "orientation": "v",
                  "showlegend": true,
                  "type": "scatter",
                  "x": [
                    460,
                    493,
                    480,
                    380,
                    310,
                    350,
                    380,
                    490,
                    390,
                    448
                  ],
                  "xaxis": "x",
                  "y": [
                    1120,
                    1120,
                    950,
                    910,
                    790,
                    1000,
                    920,
                    870,
                    1060,
                    960
                  ],
                  "yaxis": "y"
                },
                {
                  "hovertemplate": "Fonema=*IY<br>f1=%{x}<br>f2=%{y}<extra></extra>",
                  "legendgroup": "*IY",
                  "marker": {
                    "color": "#FF97FF",
                    "symbol": "circle"
                  },
                  "mode": "markers",
                  "name": "*IY",
                  "orientation": "v",
                  "showlegend": true,
                  "type": "scatter",
                  "x": [
                    230
                  ],
                  "xaxis": "x",
                  "y": [
                    2480
                  ],
                  "yaxis": "y"
                },
                {
                  "hovertemplate": "Fonema=*ER<br>f1=%{x}<br>f2=%{y}<extra></extra>",
                  "legendgroup": "*ER",
                  "marker": {
                    "color": "#FECB52",
                    "symbol": "circle"
                  },
                  "mode": "markers",
                  "name": "*ER",
                  "orientation": "v",
                  "showlegend": true,
                  "type": "scatter",
                  "x": [
                    450
                  ],
                  "xaxis": "x",
                  "y": [
                    1420
                  ],
                  "yaxis": "y"
                },
                {
                  "hovertemplate": "Fonema=1<br>f1=%{x}<br>f2=%{y}<extra></extra>",
                  "legendgroup": "1",
                  "marker": {
                    "color": "#636efa",
                    "symbol": "circle"
                  },
                  "mode": "markers",
                  "name": "1",
                  "orientation": "v",
                  "showlegend": true,
                  "type": "scatter",
                  "x": [
                    635.4,
                    607.86,
                    637.9,
                    584.08,
                    577.2,
                    651.15,
                    641.97,
                    653.56,
                    635.22,
                    651.07,
                    439.59,
                    429.49,
                    449.04,
                    443.58,
                    401.54,
                    515.49,
                    370.04,
                    453.14,
                    413.15,
                    398.28,
                    635.01,
                    657.59,
                    594.53,
                    648.88,
                    675.56
                  ],
                  "xaxis": "x",
                  "y": [
                    1099.2,
                    1067.4,
                    1163.5,
                    1183.2,
                    1142.2,
                    1283.8,
                    1204.3,
                    1283.7,
                    1301.3,
                    1265.7,
                    1272,
                    1365.4,
                    1590.4,
                    1414.9,
                    1432.5,
                    1184,
                    1106.1,
                    1124.1,
                    1111.4,
                    1157.2,
                    1117.5,
                    1110.6,
                    1134.9,
                    1098.7,
                    1145
                  ],
                  "yaxis": "y"
                },
                {
                  "hovertemplate": "Fonema=2<br>f1=%{x}<br>f2=%{y}<extra></extra>",
                  "legendgroup": "2",
                  "marker": {
                    "color": "#EF553B",
                    "symbol": "circle"
                  },
                  "mode": "markers",
                  "name": "2",
                  "orientation": "v",
                  "showlegend": true,
                  "type": "scatter",
                  "x": [
                    463.79,
                    444.47,
                    482,
                    485.48,
                    510.71,
                    422.87,
                    314.79,
                    319.19,
                    300.09,
                    481.15,
                    364.52,
                    409.57,
                    410.33,
                    398.62,
                    428.4,
                    364.52,
                    409.57,
                    410.33,
                    398.62,
                    428.4,
                    504.83,
                    504.83,
                    491.69,
                    468.63,
                    476.26
                  ],
                  "xaxis": "x",
                  "y": [
                    1801,
                    1858.8,
                    1759.6,
                    1780.1,
                    1719.7,
                    1824.5,
                    1897.3,
                    1951.9,
                    2036,
                    1843.7,
                    1675.4,
                    1596.9,
                    1454.8,
                    1556.7,
                    1596.3,
                    1675.4,
                    1596.9,
                    1454.8,
                    1556.7,
                    1596.3,
                    1433.3,
                    1433.3,
                    1479.4,
                    1445.2,
                    1463.4
                  ],
                  "yaxis": "y"
                },
                {
                  "hovertemplate": "Fonema=3<br>f1=%{x}<br>f2=%{y}<extra></extra>",
                  "legendgroup": "3",
                  "marker": {
                    "color": "#00cc96",
                    "symbol": "circle"
                  },
                  "mode": "markers",
                  "name": "3",
                  "orientation": "v",
                  "showlegend": true,
                  "type": "scatter",
                  "x": [
                    247.71,
                    308.9,
                    316.28,
                    345.26,
                    288.25,
                    226.92,
                    207.07,
                    272.8,
                    264.19,
                    262.98,
                    530.11,
                    388.63,
                    546.53,
                    495.52,
                    540.46,
                    279.63,
                    267.7,
                    277.7,
                    265.47,
                    297.72,
                    282.65,
                    265.58,
                    277.37,
                    275.98,
                    287.2
                  ],
                  "xaxis": "x",
                  "y": [
                    2239.1,
                    1939.4,
                    2076.6,
                    1922,
                    2143.1,
                    2205.1,
                    347.23,
                    2200.5,
                    2178.6,
                    2181.6,
                    1128.4,
                    621,
                    1066.8,
                    959.25,
                    1013.6,
                    1917,
                    2077.2,
                    2102.4,
                    2091.6,
                    2208,
                    1779,
                    1776.4,
                    1781,
                    1779.8,
                    1821.6
                  ],
                  "yaxis": "y"
                },
                {
                  "hovertemplate": "Fonema=4<br>f1=%{x}<br>f2=%{y}<extra></extra>",
                  "legendgroup": "4",
                  "marker": {
                    "color": "#ab63fa",
                    "symbol": "circle"
                  },
                  "mode": "markers",
                  "name": "4",
                  "orientation": "v",
                  "showlegend": true,
                  "type": "scatter",
                  "x": [
                    473.05,
                    488.24,
                    466.21,
                    491.8,
                    468.68,
                    505.63,
                    485.56,
                    476.83,
                    479.61,
                    514.43,
                    434.08,
                    457.26,
                    414.28,
                    413.5,
                    466.15,
                    442.47,
                    468.46,
                    466.88,
                    457.13,
                    458.21,
                    517.98,
                    502.13,
                    527.35,
                    425.44,
                    529.95
                  ],
                  "xaxis": "x",
                  "y": [
                    832.63,
                    868.95,
                    772.59,
                    877.2,
                    906.05,
                    894.01,
                    919.42,
                    879.86,
                    888.37,
                    907.38,
                    1415.1,
                    1348,
                    1357.9,
                    1274.2,
                    1337.7,
                    967.46,
                    1008.3,
                    1006.4,
                    1022.4,
                    961.85,
                    957.03,
                    933.55,
                    954.15,
                    927.17,
                    966.16
                  ],
                  "yaxis": "y"
                },
                {
                  "hovertemplate": "Fonema=5<br>f1=%{x}<br>f2=%{y}<extra></extra>",
                  "legendgroup": "5",
                  "marker": {
                    "color": "#FFA15A",
                    "symbol": "circle"
                  },
                  "mode": "markers",
                  "name": "5",
                  "orientation": "v",
                  "showlegend": true,
                  "type": "scatter",
                  "x": [
                    257.88,
                    273.17,
                    311.15,
                    289.75,
                    308.73,
                    289.37,
                    293.02,
                    278.91,
                    274,
                    269.43,
                    506.39,
                    568.5,
                    675.88,
                    507.27,
                    632.35,
                    318.82,
                    337.74,
                    341.36,
                    342.87,
                    345.32,
                    251.07,
                    247.15,
                    224.36,
                    213.16,
                    207.99
                  ],
                  "xaxis": "x",
                  "y": [
                    817.1,
                    776.84,
                    558.52,
                    533.93,
                    791.87,
                    729.4,
                    679.13,
                    660.55,
                    654.28,
                    661.56,
                    916.79,
                    976.79,
                    1328.7,
                    1042.4,
                    1340.9,
                    824.47,
                    806.91,
                    817.15,
                    814.46,
                    809.45,
                    520.31,
                    563.59,
                    575.57,
                    610.12,
                    624.79
                  ],
                  "yaxis": "y"
                }
              ],
              "layout": {
                "legend": {
                  "title": {
                    "text": "Fonema"
                  },
                  "tracegroupgap": 0
                },
                "margin": {
                  "t": 60
                },
                "paper_bgcolor": "rgba(0,0,0,0)",
                "plot_bgcolor": "rgba(0,0,0,0)",
                "template": {
                  "data": {
                    "bar": [
                      {
                        "error_x": {
                          "color": "#2a3f5f"
                        },
                        "error_y": {
                          "color": "#2a3f5f"
                        },
                        "marker": {
                          "line": {
                            "color": "#E5ECF6",
                            "width": 0.5
                          },
                          "pattern": {
                            "fillmode": "overlay",
                            "size": 10,
                            "solidity": 0.2
                          }
                        },
                        "type": "bar"
                      }
                    ],
                    "barpolar": [
                      {
                        "marker": {
                          "line": {
                            "color": "#E5ECF6",
                            "width": 0.5
                          },
                          "pattern": {
                            "fillmode": "overlay",
                            "size": 10,
                            "solidity": 0.2
                          }
                        },
                        "type": "barpolar"
                      }
                    ],
                    "carpet": [
                      {
                        "aaxis": {
                          "endlinecolor": "#2a3f5f",
                          "gridcolor": "white",
                          "linecolor": "white",
                          "minorgridcolor": "white",
                          "startlinecolor": "#2a3f5f"
                        },
                        "baxis": {
                          "endlinecolor": "#2a3f5f",
                          "gridcolor": "white",
                          "linecolor": "white",
                          "minorgridcolor": "white",
                          "startlinecolor": "#2a3f5f"
                        },
                        "type": "carpet"
                      }
                    ],
                    "choropleth": [
                      {
                        "colorbar": {
                          "outlinewidth": 0,
                          "ticks": ""
                        },
                        "type": "choropleth"
                      }
                    ],
                    "contour": [
                      {
                        "colorbar": {
                          "outlinewidth": 0,
                          "ticks": ""
                        },
                        "colorscale": [
                          [
                            0,
                            "#0d0887"
                          ],
                          [
                            0.1111111111111111,
                            "#46039f"
                          ],
                          [
                            0.2222222222222222,
                            "#7201a8"
                          ],
                          [
                            0.3333333333333333,
                            "#9c179e"
                          ],
                          [
                            0.4444444444444444,
                            "#bd3786"
                          ],
                          [
                            0.5555555555555556,
                            "#d8576b"
                          ],
                          [
                            0.6666666666666666,
                            "#ed7953"
                          ],
                          [
                            0.7777777777777778,
                            "#fb9f3a"
                          ],
                          [
                            0.8888888888888888,
                            "#fdca26"
                          ],
                          [
                            1,
                            "#f0f921"
                          ]
                        ],
                        "type": "contour"
                      }
                    ],
                    "contourcarpet": [
                      {
                        "colorbar": {
                          "outlinewidth": 0,
                          "ticks": ""
                        },
                        "type": "contourcarpet"
                      }
                    ],
                    "heatmap": [
                      {
                        "colorbar": {
                          "outlinewidth": 0,
                          "ticks": ""
                        },
                        "colorscale": [
                          [
                            0,
                            "#0d0887"
                          ],
                          [
                            0.1111111111111111,
                            "#46039f"
                          ],
                          [
                            0.2222222222222222,
                            "#7201a8"
                          ],
                          [
                            0.3333333333333333,
                            "#9c179e"
                          ],
                          [
                            0.4444444444444444,
                            "#bd3786"
                          ],
                          [
                            0.5555555555555556,
                            "#d8576b"
                          ],
                          [
                            0.6666666666666666,
                            "#ed7953"
                          ],
                          [
                            0.7777777777777778,
                            "#fb9f3a"
                          ],
                          [
                            0.8888888888888888,
                            "#fdca26"
                          ],
                          [
                            1,
                            "#f0f921"
                          ]
                        ],
                        "type": "heatmap"
                      }
                    ],
                    "heatmapgl": [
                      {
                        "colorbar": {
                          "outlinewidth": 0,
                          "ticks": ""
                        },
                        "colorscale": [
                          [
                            0,
                            "#0d0887"
                          ],
                          [
                            0.1111111111111111,
                            "#46039f"
                          ],
                          [
                            0.2222222222222222,
                            "#7201a8"
                          ],
                          [
                            0.3333333333333333,
                            "#9c179e"
                          ],
                          [
                            0.4444444444444444,
                            "#bd3786"
                          ],
                          [
                            0.5555555555555556,
                            "#d8576b"
                          ],
                          [
                            0.6666666666666666,
                            "#ed7953"
                          ],
                          [
                            0.7777777777777778,
                            "#fb9f3a"
                          ],
                          [
                            0.8888888888888888,
                            "#fdca26"
                          ],
                          [
                            1,
                            "#f0f921"
                          ]
                        ],
                        "type": "heatmapgl"
                      }
                    ],
                    "histogram": [
                      {
                        "marker": {
                          "pattern": {
                            "fillmode": "overlay",
                            "size": 10,
                            "solidity": 0.2
                          }
                        },
                        "type": "histogram"
                      }
                    ],
                    "histogram2d": [
                      {
                        "colorbar": {
                          "outlinewidth": 0,
                          "ticks": ""
                        },
                        "colorscale": [
                          [
                            0,
                            "#0d0887"
                          ],
                          [
                            0.1111111111111111,
                            "#46039f"
                          ],
                          [
                            0.2222222222222222,
                            "#7201a8"
                          ],
                          [
                            0.3333333333333333,
                            "#9c179e"
                          ],
                          [
                            0.4444444444444444,
                            "#bd3786"
                          ],
                          [
                            0.5555555555555556,
                            "#d8576b"
                          ],
                          [
                            0.6666666666666666,
                            "#ed7953"
                          ],
                          [
                            0.7777777777777778,
                            "#fb9f3a"
                          ],
                          [
                            0.8888888888888888,
                            "#fdca26"
                          ],
                          [
                            1,
                            "#f0f921"
                          ]
                        ],
                        "type": "histogram2d"
                      }
                    ],
                    "histogram2dcontour": [
                      {
                        "colorbar": {
                          "outlinewidth": 0,
                          "ticks": ""
                        },
                        "colorscale": [
                          [
                            0,
                            "#0d0887"
                          ],
                          [
                            0.1111111111111111,
                            "#46039f"
                          ],
                          [
                            0.2222222222222222,
                            "#7201a8"
                          ],
                          [
                            0.3333333333333333,
                            "#9c179e"
                          ],
                          [
                            0.4444444444444444,
                            "#bd3786"
                          ],
                          [
                            0.5555555555555556,
                            "#d8576b"
                          ],
                          [
                            0.6666666666666666,
                            "#ed7953"
                          ],
                          [
                            0.7777777777777778,
                            "#fb9f3a"
                          ],
                          [
                            0.8888888888888888,
                            "#fdca26"
                          ],
                          [
                            1,
                            "#f0f921"
                          ]
                        ],
                        "type": "histogram2dcontour"
                      }
                    ],
                    "mesh3d": [
                      {
                        "colorbar": {
                          "outlinewidth": 0,
                          "ticks": ""
                        },
                        "type": "mesh3d"
                      }
                    ],
                    "parcoords": [
                      {
                        "line": {
                          "colorbar": {
                            "outlinewidth": 0,
                            "ticks": ""
                          }
                        },
                        "type": "parcoords"
                      }
                    ],
                    "pie": [
                      {
                        "automargin": true,
                        "type": "pie"
                      }
                    ],
                    "scatter": [
                      {
                        "fillpattern": {
                          "fillmode": "overlay",
                          "size": 10,
                          "solidity": 0.2
                        },
                        "type": "scatter"
                      }
                    ],
                    "scatter3d": [
                      {
                        "line": {
                          "colorbar": {
                            "outlinewidth": 0,
                            "ticks": ""
                          }
                        },
                        "marker": {
                          "colorbar": {
                            "outlinewidth": 0,
                            "ticks": ""
                          }
                        },
                        "type": "scatter3d"
                      }
                    ],
                    "scattercarpet": [
                      {
                        "marker": {
                          "colorbar": {
                            "outlinewidth": 0,
                            "ticks": ""
                          }
                        },
                        "type": "scattercarpet"
                      }
                    ],
                    "scattergeo": [
                      {
                        "marker": {
                          "colorbar": {
                            "outlinewidth": 0,
                            "ticks": ""
                          }
                        },
                        "type": "scattergeo"
                      }
                    ],
                    "scattergl": [
                      {
                        "marker": {
                          "colorbar": {
                            "outlinewidth": 0,
                            "ticks": ""
                          }
                        },
                        "type": "scattergl"
                      }
                    ],
                    "scattermapbox": [
                      {
                        "marker": {
                          "colorbar": {
                            "outlinewidth": 0,
                            "ticks": ""
                          }
                        },
                        "type": "scattermapbox"
                      }
                    ],
                    "scatterpolar": [
                      {
                        "marker": {
                          "colorbar": {
                            "outlinewidth": 0,
                            "ticks": ""
                          }
                        },
                        "type": "scatterpolar"
                      }
                    ],
                    "scatterpolargl": [
                      {
                        "marker": {
                          "colorbar": {
                            "outlinewidth": 0,
                            "ticks": ""
                          }
                        },
                        "type": "scatterpolargl"
                      }
                    ],
                    "scatterternary": [
                      {
                        "marker": {
                          "colorbar": {
                            "outlinewidth": 0,
                            "ticks": ""
                          }
                        },
                        "type": "scatterternary"
                      }
                    ],
                    "surface": [
                      {
                        "colorbar": {
                          "outlinewidth": 0,
                          "ticks": ""
                        },
                        "colorscale": [
                          [
                            0,
                            "#0d0887"
                          ],
                          [
                            0.1111111111111111,
                            "#46039f"
                          ],
                          [
                            0.2222222222222222,
                            "#7201a8"
                          ],
                          [
                            0.3333333333333333,
                            "#9c179e"
                          ],
                          [
                            0.4444444444444444,
                            "#bd3786"
                          ],
                          [
                            0.5555555555555556,
                            "#d8576b"
                          ],
                          [
                            0.6666666666666666,
                            "#ed7953"
                          ],
                          [
                            0.7777777777777778,
                            "#fb9f3a"
                          ],
                          [
                            0.8888888888888888,
                            "#fdca26"
                          ],
                          [
                            1,
                            "#f0f921"
                          ]
                        ],
                        "type": "surface"
                      }
                    ],
                    "table": [
                      {
                        "cells": {
                          "fill": {
                            "color": "#EBF0F8"
                          },
                          "line": {
                            "color": "white"
                          }
                        },
                        "header": {
                          "fill": {
                            "color": "#C8D4E3"
                          },
                          "line": {
                            "color": "white"
                          }
                        },
                        "type": "table"
                      }
                    ]
                  },
                  "layout": {
                    "annotationdefaults": {
                      "arrowcolor": "#2a3f5f",
                      "arrowhead": 0,
                      "arrowwidth": 1
                    },
                    "autotypenumbers": "strict",
                    "coloraxis": {
                      "colorbar": {
                        "outlinewidth": 0,
                        "ticks": ""
                      }
                    },
                    "colorscale": {
                      "diverging": [
                        [
                          0,
                          "#8e0152"
                        ],
                        [
                          0.1,
                          "#c51b7d"
                        ],
                        [
                          0.2,
                          "#de77ae"
                        ],
                        [
                          0.3,
                          "#f1b6da"
                        ],
                        [
                          0.4,
                          "#fde0ef"
                        ],
                        [
                          0.5,
                          "#f7f7f7"
                        ],
                        [
                          0.6,
                          "#e6f5d0"
                        ],
                        [
                          0.7,
                          "#b8e186"
                        ],
                        [
                          0.8,
                          "#7fbc41"
                        ],
                        [
                          0.9,
                          "#4d9221"
                        ],
                        [
                          1,
                          "#276419"
                        ]
                      ],
                      "sequential": [
                        [
                          0,
                          "#0d0887"
                        ],
                        [
                          0.1111111111111111,
                          "#46039f"
                        ],
                        [
                          0.2222222222222222,
                          "#7201a8"
                        ],
                        [
                          0.3333333333333333,
                          "#9c179e"
                        ],
                        [
                          0.4444444444444444,
                          "#bd3786"
                        ],
                        [
                          0.5555555555555556,
                          "#d8576b"
                        ],
                        [
                          0.6666666666666666,
                          "#ed7953"
                        ],
                        [
                          0.7777777777777778,
                          "#fb9f3a"
                        ],
                        [
                          0.8888888888888888,
                          "#fdca26"
                        ],
                        [
                          1,
                          "#f0f921"
                        ]
                      ],
                      "sequentialminus": [
                        [
                          0,
                          "#0d0887"
                        ],
                        [
                          0.1111111111111111,
                          "#46039f"
                        ],
                        [
                          0.2222222222222222,
                          "#7201a8"
                        ],
                        [
                          0.3333333333333333,
                          "#9c179e"
                        ],
                        [
                          0.4444444444444444,
                          "#bd3786"
                        ],
                        [
                          0.5555555555555556,
                          "#d8576b"
                        ],
                        [
                          0.6666666666666666,
                          "#ed7953"
                        ],
                        [
                          0.7777777777777778,
                          "#fb9f3a"
                        ],
                        [
                          0.8888888888888888,
                          "#fdca26"
                        ],
                        [
                          1,
                          "#f0f921"
                        ]
                      ]
                    },
                    "colorway": [
                      "#636efa",
                      "#EF553B",
                      "#00cc96",
                      "#ab63fa",
                      "#FFA15A",
                      "#19d3f3",
                      "#FF6692",
                      "#B6E880",
                      "#FF97FF",
                      "#FECB52"
                    ],
                    "font": {
                      "color": "#2a3f5f"
                    },
                    "geo": {
                      "bgcolor": "white",
                      "lakecolor": "white",
                      "landcolor": "#E5ECF6",
                      "showlakes": true,
                      "showland": true,
                      "subunitcolor": "white"
                    },
                    "hoverlabel": {
                      "align": "left"
                    },
                    "hovermode": "closest",
                    "mapbox": {
                      "style": "light"
                    },
                    "paper_bgcolor": "white",
                    "plot_bgcolor": "#E5ECF6",
                    "polar": {
                      "angularaxis": {
                        "gridcolor": "white",
                        "linecolor": "white",
                        "ticks": ""
                      },
                      "bgcolor": "#E5ECF6",
                      "radialaxis": {
                        "gridcolor": "white",
                        "linecolor": "white",
                        "ticks": ""
                      }
                    },
                    "scene": {
                      "xaxis": {
                        "backgroundcolor": "#E5ECF6",
                        "gridcolor": "white",
                        "gridwidth": 2,
                        "linecolor": "white",
                        "showbackground": true,
                        "ticks": "",
                        "zerolinecolor": "white"
                      },
                      "yaxis": {
                        "backgroundcolor": "#E5ECF6",
                        "gridcolor": "white",
                        "gridwidth": 2,
                        "linecolor": "white",
                        "showbackground": true,
                        "ticks": "",
                        "zerolinecolor": "white"
                      },
                      "zaxis": {
                        "backgroundcolor": "#E5ECF6",
                        "gridcolor": "white",
                        "gridwidth": 2,
                        "linecolor": "white",
                        "showbackground": true,
                        "ticks": "",
                        "zerolinecolor": "white"
                      }
                    },
                    "shapedefaults": {
                      "line": {
                        "color": "#2a3f5f"
                      }
                    },
                    "ternary": {
                      "aaxis": {
                        "gridcolor": "white",
                        "linecolor": "white",
                        "ticks": ""
                      },
                      "baxis": {
                        "gridcolor": "white",
                        "linecolor": "white",
                        "ticks": ""
                      },
                      "bgcolor": "#E5ECF6",
                      "caxis": {
                        "gridcolor": "white",
                        "linecolor": "white",
                        "ticks": ""
                      }
                    },
                    "title": {
                      "x": 0.05
                    },
                    "xaxis": {
                      "automargin": true,
                      "gridcolor": "white",
                      "linecolor": "white",
                      "ticks": "",
                      "title": {
                        "standoff": 15
                      },
                      "zerolinecolor": "white",
                      "zerolinewidth": 2
                    },
                    "yaxis": {
                      "automargin": true,
                      "gridcolor": "white",
                      "linecolor": "white",
                      "ticks": "",
                      "title": {
                        "standoff": 15
                      },
                      "zerolinecolor": "white",
                      "zerolinewidth": 2
                    }
                  }
                },
                "xaxis": {
                  "anchor": "y",
                  "domain": [
                    0,
                    1
                  ],
                  "gridcolor": "black",
                  "gridwidth": 1,
                  "linecolor": "black",
                  "linewidth": 2,
                  "mirror": true,
                  "showgrid": true,
                  "showline": true,
                  "title": {
                    "text": "f1"
                  }
                },
                "yaxis": {
                  "anchor": "x",
                  "domain": [
                    0,
                    1
                  ],
                  "gridcolor": "black",
                  "gridwidth": 1,
                  "linecolor": "black",
                  "linewidth": 2,
                  "mirror": true,
                  "showgrid": false,
                  "showline": true,
                  "title": {
                    "text": "f2"
                  }
                }
              }
            }
          },
          "metadata": {},
          "output_type": "display_data"
        },
        {
          "data": {
            "text/plain": [
              "<Figure size 1080x504 with 0 Axes>"
            ]
          },
          "metadata": {},
          "output_type": "display_data"
        }
      ],
      "source": [
        "###################################################################################################\n",
        "# Visualiza os dados\n",
        "\n",
        "import plotly.express as px\n",
        "df = vogaisH\n",
        "plt.figure(figsize=(15,7))\n",
        "fig = px.scatter(df, x=\"f1\", y=\"f2\", color=\"Fonema\")\n",
        "\n",
        "fig.update_xaxes(showgrid=True, gridwidth=1, gridcolor='black')\n",
        "fig.update_yaxes(showgrid=False, gridwidth=1, gridcolor='black')\n",
        "\n",
        "fig.update_xaxes(showline=True, linewidth=2, linecolor='black', mirror=True)\n",
        "fig.update_yaxes(showline=True, linewidth=2, linecolor='black', mirror=True)\n",
        "\n",
        "fig.update_layout(\n",
        "      paper_bgcolor='rgba(0,0,0,0)',\n",
        "      plot_bgcolor='rgba(0,0,0,0)'\n",
        "  )\n",
        "fig.show()"
      ]
    },
    {
      "cell_type": "markdown",
      "metadata": {
        "id": "s4NLyJYKCRFV"
      },
      "source": [
        "# **Separando os fonemas**"
      ]
    },
    {
      "cell_type": "code",
      "execution_count": 118,
      "metadata": {
        "colab": {
          "base_uri": "https://localhost:8080/",
          "height": 497
        },
        "id": "7Ah9pkKRCUlb",
        "outputId": "27d1dcb0-c4f2-4825-8815-65e23ee2d8d9"
      },
      "outputs": [
        {
          "data": {
            "image/png": "[encoded data removed]",
            "text/plain": [
              "<Figure size 576x576 with 1 Axes>"
            ]
          },
          "metadata": {
            "needs_background": "light"
          },
          "output_type": "display_data"
        }
      ],
      "source": [
        "Freq = np.array([formante1,formante2]).T\n",
        "\n",
        "###################################################################################################\n",
        "# Gaussian Mixtures\n",
        "\n",
        "from sklearn.mixture import GaussianMixture\n",
        "\n",
        "n_components = np.arange(1, 21)\n",
        "models = [GaussianMixture(n, covariance_type='full', random_state=0).fit(Freq)\n",
        "          for n in n_components]\n",
        "plt.figure(figsize = (8,8))\n",
        "plt.plot(n_components, [m.bic(Freq) for m in models], label='BIC',linewidth = \"3\")\n",
        "plt.plot(n_components, [m.aic(Freq) for m in models], label='EIC',linewidth = \"3\")\n",
        "plt.legend(loc='best')\n",
        "plt.xlabel('Número de Componentes');"
      ]
    },
    {
      "cell_type": "code",
      "execution_count": 119,
      "metadata": {
        "colab": {
          "base_uri": "https://localhost:8080/",
          "height": 483
        },
        "id": "ruXVLFO_FKxe",
        "outputId": "578809fc-2773-4798-f1ff-27a1cc2dfe81"
      },
      "outputs": [
        {
          "data": {
            "image/png": "[encoded data removed]",
            "text/plain": [
              "<Figure size 576x576 with 1 Axes>"
            ]
          },
          "metadata": {
            "needs_background": "light"
          },
          "output_type": "display_data"
        }
      ],
      "source": [
        "###################################################################################################\n",
        "# Gaussian Mixtures - visualização\n",
        "\n",
        "from matplotlib.patches import Ellipse\n",
        "\n",
        "gmm2 = GaussianMixture(n_components=5, covariance_type='full', random_state=0)\n",
        "plt.figure(figsize = (8,8))\n",
        "plot_gmm(gmm2, Freq)"
      ]
    },
    {
      "cell_type": "code",
      "execution_count": 120,
      "metadata": {
        "colab": {
          "base_uri": "https://localhost:8080/"
        },
        "id": "5qv-jP3jG5lo",
        "outputId": "c187503c-5620-4931-9bf7-670eb6817f59"
      },
      "outputs": [
        {
          "data": {
            "text/plain": [
              "array([4, 4, 1, 4, 1, 1, 1, 1, 2, 2, 3, 3, 3, 3, 0, 0, 0, 0, 2, 2, 4, 4,\n",
              "       1, 1, 1, 1, 1, 1, 3, 3, 3, 3, 3, 3, 0, 0, 0, 0, 2, 0, 4, 4, 1, 1,\n",
              "       1, 1, 1, 1, 3, 3, 3, 3, 3, 3, 0, 0, 0, 0, 2, 2, 4, 4, 1, 1, 1, 1,\n",
              "       1, 1, 3, 3, 3, 3, 3, 3, 0, 0, 0, 0, 2, 2, 4, 4, 1, 1, 1, 1, 1, 1,\n",
              "       2, 3, 3, 3, 3, 3, 0, 0, 0, 0, 2, 2, 4, 4, 1, 4, 1, 1, 1, 1, 3, 3,\n",
              "       3, 3, 3, 3, 0, 0, 0, 0, 2, 2, 4, 4, 1, 1, 1, 1, 1, 1, 2, 3, 3, 3,\n",
              "       0, 3, 0, 0, 0, 0, 2, 2, 4, 4, 4, 4, 1, 1, 1, 1, 2, 2, 3, 3, 3, 3,\n",
              "       0, 2, 0, 0, 2, 2, 4, 4, 1, 1, 1, 1, 1, 1, 3, 3, 3, 3, 3, 3, 0, 0,\n",
              "       0, 0, 2, 2, 4, 4, 1, 1, 1, 1, 1, 1, 3, 3, 3, 3, 3, 3, 0, 0, 0, 0,\n",
              "       2, 2, 4, 4, 1, 1, 1, 1, 1, 1, 3, 3, 3, 3, 3, 3, 0, 0, 0, 0, 2, 2,\n",
              "       4, 4, 1, 1, 1, 1, 1, 1, 2, 2, 3, 3, 3, 3, 0, 0, 0, 0, 2, 2, 4, 4,\n",
              "       1, 1, 1, 1, 1, 1, 2, 2, 3, 3, 3, 3, 0, 0, 0, 0, 2, 2, 4, 4, 1, 1,\n",
              "       1, 1, 1, 1, 3, 3, 3, 3, 3, 3, 0, 0, 0, 0, 2, 2, 4, 4, 1, 4, 1, 1,\n",
              "       1, 1, 3, 3, 3, 3, 3, 3, 0, 0, 0, 0, 2, 2, 4, 4, 4, 1, 1, 1, 1, 1,\n",
              "       3, 3, 3, 3, 3, 3, 2, 2, 2, 2, 2, 2, 4, 4, 1, 4, 1, 1, 1, 1, 2, 2,\n",
              "       3, 3, 3, 3, 0, 0, 0, 0, 2, 2, 4, 4, 4, 4, 1, 1, 1, 1, 3, 3, 3, 3,\n",
              "       3, 3, 0, 0, 0, 0, 2, 2, 4, 4, 4, 4, 4, 4, 2, 1, 3, 3, 3, 3, 3, 3,\n",
              "       0, 0, 0, 0, 2, 2, 4, 4, 1, 4, 1, 1, 1, 1, 3, 3, 3, 3, 3, 3, 0, 0,\n",
              "       0, 0, 2, 2, 4, 4, 1, 1, 1, 1, 1, 1, 3, 3, 3, 3, 3, 3, 0, 0, 0, 0,\n",
              "       2, 2, 4, 4, 1, 1, 1, 1, 1, 1, 3, 3, 3, 3, 3, 3, 3, 3, 0, 0, 2, 2,\n",
              "       4, 4, 1, 1, 1, 1, 1, 1, 3, 3, 3, 3, 3, 3, 0, 0, 0, 0, 2, 2, 4, 4,\n",
              "       1, 1, 1, 1, 1, 1, 2, 3, 3, 3, 3, 3, 0, 2, 0, 0, 2, 2, 4, 4, 4, 1,\n",
              "       1, 1, 1, 1, 3, 3, 3, 3, 3, 3, 0, 0, 0, 0, 2, 2, 4, 4, 4, 1, 1, 1,\n",
              "       1, 1, 3, 2, 3, 3, 3, 3, 0, 0, 0, 0, 2, 2, 4, 4, 4, 4, 1, 1, 1, 1,\n",
              "       3, 0, 3, 3, 3, 3, 0, 0, 0, 0, 2, 0, 4, 4, 1, 1, 1, 1, 1, 1, 2, 2,\n",
              "       3, 3, 3, 3, 0, 0, 0, 0, 2, 2, 4, 4, 4, 1, 1, 1, 1, 1, 3, 3, 3, 3,\n",
              "       3, 3, 0, 0, 0, 0, 2, 2, 4, 4, 1, 1, 1, 1, 1, 1, 3, 3, 3, 3, 3, 3,\n",
              "       0, 0, 0, 0, 2, 2, 4, 4, 1, 1, 1, 1, 1, 1, 3, 3, 3, 3, 3, 3, 0, 0,\n",
              "       0, 0, 2, 2, 4, 4, 4, 4, 1, 1, 1, 1, 2, 2, 3, 3, 3, 3, 0, 0, 0, 0,\n",
              "       2, 2, 4, 4, 1, 1, 1, 1, 1, 1, 3, 3, 3, 3, 3, 3, 0, 0, 0, 0, 2, 2,\n",
              "       3, 3, 3, 2, 3, 1, 1, 1, 1, 1, 4, 4, 4, 4, 4, 0, 3, 3, 3, 0, 0, 0,\n",
              "       0, 0, 0, 3, 3, 3, 2, 3, 1, 4, 4, 4, 1, 4, 0, 4, 4, 4, 3, 0, 0, 0,\n",
              "       3, 0, 0, 0, 0, 0, 2, 2, 2, 2, 2, 4, 2, 2, 2, 2, 0, 0, 3, 0, 3, 2,\n",
              "       2, 2, 2, 2, 3, 3, 3, 0, 2, 0, 0, 0, 0, 0, 4, 2, 2, 2, 2, 4, 4, 4,\n",
              "       4, 4, 0, 0, 0, 0, 0, 0, 0, 0, 0, 0, 3, 3, 3, 3, 3, 2, 2, 2, 2, 2,\n",
              "       4, 4, 4, 4, 4, 3, 3, 3, 0, 3, 0, 0, 0, 0, 0], dtype=int64)"
            ]
          },
          "execution_count": 120,
          "metadata": {},
          "output_type": "execute_result"
        }
      ],
      "source": [
        "gmm2.fit_predict(Freq, y=None)"
      ]
    },
    {
      "cell_type": "code",
      "execution_count": 121,
      "metadata": {
        "colab": {
          "base_uri": "https://localhost:8080/",
          "height": 297
        },
        "id": "1VMMGxn8HIhA",
        "outputId": "66fd467f-1cca-4dee-d575-55c2e75fd1f1"
      },
      "outputs": [
        {
          "data": {
            "text/html": [
              "<div>\n",
              "<style scoped>\n",
              "    .dataframe tbody tr th:only-of-type {\n",
              "        vertical-align: middle;\n",
              "    }\n",
              "\n",
              "    .dataframe tbody tr th {\n",
              "        vertical-align: top;\n",
              "    }\n",
              "\n",
              "    .dataframe thead th {\n",
              "        text-align: right;\n",
              "    }\n",
              "</style>\n",
              "<table border=\"1\" class=\"dataframe\">\n",
              "  <thead>\n",
              "    <tr style=\"text-align: right;\">\n",
              "      <th></th>\n",
              "      <th>Genero</th>\n",
              "      <th>Locutor</th>\n",
              "      <th>Tentativa</th>\n",
              "      <th>Fonema</th>\n",
              "      <th>fo</th>\n",
              "      <th>f1</th>\n",
              "      <th>f2</th>\n",
              "      <th>f3</th>\n",
              "      <th>Codigo</th>\n",
              "    </tr>\n",
              "  </thead>\n",
              "  <tbody>\n",
              "    <tr>\n",
              "      <th>0</th>\n",
              "      <td>1</td>\n",
              "      <td>1</td>\n",
              "      <td>1</td>\n",
              "      <td>IY</td>\n",
              "      <td>160.0</td>\n",
              "      <td>240.0</td>\n",
              "      <td>2280.0</td>\n",
              "      <td>2850.0</td>\n",
              "      <td>22.0</td>\n",
              "    </tr>\n",
              "    <tr>\n",
              "      <th>1</th>\n",
              "      <td>1</td>\n",
              "      <td>1</td>\n",
              "      <td>1</td>\n",
              "      <td>IY</td>\n",
              "      <td>186.0</td>\n",
              "      <td>280.0</td>\n",
              "      <td>2400.0</td>\n",
              "      <td>2790.0</td>\n",
              "      <td>22.0</td>\n",
              "    </tr>\n",
              "    <tr>\n",
              "      <th>2</th>\n",
              "      <td>1</td>\n",
              "      <td>1</td>\n",
              "      <td>2</td>\n",
              "      <td>IH</td>\n",
              "      <td>203.0</td>\n",
              "      <td>390.0</td>\n",
              "      <td>2030.0</td>\n",
              "      <td>2640.0</td>\n",
              "      <td>21.0</td>\n",
              "    </tr>\n",
              "    <tr>\n",
              "      <th>3</th>\n",
              "      <td>1</td>\n",
              "      <td>1</td>\n",
              "      <td>2</td>\n",
              "      <td>IH</td>\n",
              "      <td>192.0</td>\n",
              "      <td>310.0</td>\n",
              "      <td>1980.0</td>\n",
              "      <td>2550.0</td>\n",
              "      <td>21.0</td>\n",
              "    </tr>\n",
              "    <tr>\n",
              "      <th>4</th>\n",
              "      <td>1</td>\n",
              "      <td>1</td>\n",
              "      <td>3</td>\n",
              "      <td>EH</td>\n",
              "      <td>161.0</td>\n",
              "      <td>490.0</td>\n",
              "      <td>1870.0</td>\n",
              "      <td>2420.0</td>\n",
              "      <td>19.0</td>\n",
              "    </tr>\n",
              "    <tr>\n",
              "      <th>5</th>\n",
              "      <td>1</td>\n",
              "      <td>1</td>\n",
              "      <td>3</td>\n",
              "      <td>*EH</td>\n",
              "      <td>155.0</td>\n",
              "      <td>570.0</td>\n",
              "      <td>1700.0</td>\n",
              "      <td>2600.0</td>\n",
              "      <td>4.0</td>\n",
              "    </tr>\n",
              "    <tr>\n",
              "      <th>6</th>\n",
              "      <td>1</td>\n",
              "      <td>1</td>\n",
              "      <td>4</td>\n",
              "      <td>*AE</td>\n",
              "      <td>140.0</td>\n",
              "      <td>560.0</td>\n",
              "      <td>1820.0</td>\n",
              "      <td>2660.0</td>\n",
              "      <td>1.0</td>\n",
              "    </tr>\n",
              "    <tr>\n",
              "      <th>7</th>\n",
              "      <td>1</td>\n",
              "      <td>1</td>\n",
              "      <td>4</td>\n",
              "      <td>AE</td>\n",
              "      <td>180.0</td>\n",
              "      <td>630.0</td>\n",
              "      <td>1700.0</td>\n",
              "      <td>2550.0</td>\n",
              "      <td>16.0</td>\n",
              "    </tr>\n",
              "  </tbody>\n",
              "</table>\n",
              "</div>"
            ],
            "text/plain": [
              "   Genero  Locutor  Tentativa Fonema     fo     f1      f2      f3  Codigo\n",
              "0       1        1          1     IY  160.0  240.0  2280.0  2850.0    22.0\n",
              "1       1        1          1     IY  186.0  280.0  2400.0  2790.0    22.0\n",
              "2       1        1          2     IH  203.0  390.0  2030.0  2640.0    21.0\n",
              "3       1        1          2     IH  192.0  310.0  1980.0  2550.0    21.0\n",
              "4       1        1          3     EH  161.0  490.0  1870.0  2420.0    19.0\n",
              "5       1        1          3    *EH  155.0  570.0  1700.0  2600.0     4.0\n",
              "6       1        1          4    *AE  140.0  560.0  1820.0  2660.0     1.0\n",
              "7       1        1          4     AE  180.0  630.0  1700.0  2550.0    16.0"
            ]
          },
          "execution_count": 121,
          "metadata": {},
          "output_type": "execute_result"
        }
      ],
      "source": [
        "vogais.head(8)"
      ]
    },
    {
      "cell_type": "markdown",
      "metadata": {},
      "source": [
        "# Fazendo detecção de vogais\n",
        "## separando o dataframe por genero e por vogais para calcular os intervalos válidos de f0, f1, f2 e f3"
      ]
    },
    {
      "cell_type": "code",
      "execution_count": 122,
      "metadata": {},
      "outputs": [
        {
          "data": {
            "text/plain": [
              "array(['IY', 'IH', 'EH', '*EH', '*AE', 'AE', 'AH', 'AA', '*AO', 'UH',\n",
              "       'UW', 'ER', '*AH', 'AO', '*UW', '*IH', '*AA', '*UH', '*IY', '*ER',\n",
              "       '1', '2', '3', '4', '5'], dtype=object)"
            ]
          },
          "execution_count": 122,
          "metadata": {},
          "output_type": "execute_result"
        }
      ],
      "source": [
        "vogais['Fonema'].unique()"
      ]
    },
    {
      "cell_type": "code",
      "execution_count": 123,
      "metadata": {},
      "outputs": [],
      "source": [
        "vogais['Fonema'].replace(to_replace = 1,value= 'AA', inplace = True)\n",
        "#vogais['Fonema'].replace(to_replace = '*AA',value= 'AA', inplace = True)\n",
        "#vogais['Fonema'].replace(to_replace = '*AE',value= 'AA', inplace = True)\n",
        "vogais['Fonema'].replace(to_replace = '*AH',value= 'AA', inplace = True)\n",
        "\n",
        "#vogais['Fonema'].replace(to_replace = 'AE',value= 'AA', inplace = True)\n",
        "vogais['Fonema'].replace(to_replace = 'AH',value= 'AA', inplace = True)\n",
        "\n",
        "\n",
        "\n",
        "vogais['Fonema'].replace(to_replace = 2,value= 'EE', inplace = True)\n",
        "vogais['Fonema'].replace(to_replace = '*EH',value= 'EE', inplace = True)\n",
        "vogais['Fonema'].replace(to_replace = 'EH',value= 'EE', inplace = True)\n",
        "#vogais['Fonema'].replace(to_replace = '*ER',value= 'EE', inplace = True)\n",
        "#vogais['Fonema'].replace(to_replace = 'ER',value= 'EE', inplace = True)\n",
        "\n",
        "\n",
        "vogais['Fonema'].replace(to_replace = 3,value= 'II', inplace = True)\n",
        "vogais['Fonema'].replace(to_replace = 'IY',value= 'II', inplace = True)\n",
        "#vogais['Fonema'].replace(to_replace = 'IH',value= 'II', inplace = True)\n",
        "#vogais['Fonema'].replace(to_replace = '*IH',value= 'II', inplace = True)\n",
        "vogais['Fonema'].replace(to_replace = '*IY',value= 'II', inplace = True)\n",
        "\n",
        "vogais['Fonema'].replace(to_replace = 4,value= 'OO', inplace = True)\n",
        "vogais['Fonema'].replace(to_replace = 'AO',value= 'OO', inplace = True)\n",
        "vogais['Fonema'].replace(to_replace = '*AO',value= 'OO', inplace = True)\n",
        "\n",
        "vogais['Fonema'].replace(to_replace = 5,value= 'UU', inplace = True)\n",
        "#vogais['Fonema'].replace(to_replace = '*UH',value= 'UU', inplace = True)\n",
        "vogais['Fonema'].replace(to_replace = '*UW',value= 'UU', inplace = True)\n",
        "#vogais['Fonema'].replace(to_replace = 'UH',value= 'UU', inplace = True)\n",
        "vogais['Fonema'].replace(to_replace = 'UW',value= 'UU', inplace = True)"
      ]
    },
    {
      "cell_type": "code",
      "execution_count": 124,
      "metadata": {},
      "outputs": [
        {
          "data": {
            "text/plain": [
              "array(['II', 'IH', 'EE', '*AE', 'AE', 'AA', 'OO', 'UH', 'UU', 'ER', '*IH',\n",
              "       '*AA', '*UH', '*ER', '1', '2', '3', '4', '5'], dtype=object)"
            ]
          },
          "execution_count": 124,
          "metadata": {},
          "output_type": "execute_result"
        }
      ],
      "source": [
        "vogais['Fonema'].unique()"
      ]
    },
    {
      "cell_type": "code",
      "execution_count": 125,
      "metadata": {},
      "outputs": [],
      "source": [
        "dfHomem = vogais.loc[vogais['Genero'] == 1]"
      ]
    },
    {
      "cell_type": "markdown",
      "metadata": {},
      "source": [
        "# Intervalos formantes e f0  vogal A"
      ]
    },
    {
      "cell_type": "code",
      "execution_count": 126,
      "metadata": {},
      "outputs": [
        {
          "data": {
            "text/html": [
              "<div>\n",
              "<style scoped>\n",
              "    .dataframe tbody tr th:only-of-type {\n",
              "        vertical-align: middle;\n",
              "    }\n",
              "\n",
              "    .dataframe tbody tr th {\n",
              "        vertical-align: top;\n",
              "    }\n",
              "\n",
              "    .dataframe thead th {\n",
              "        text-align: right;\n",
              "    }\n",
              "</style>\n",
              "<table border=\"1\" class=\"dataframe\">\n",
              "  <thead>\n",
              "    <tr style=\"text-align: right;\">\n",
              "      <th></th>\n",
              "      <th>Genero</th>\n",
              "      <th>Locutor</th>\n",
              "      <th>Tentativa</th>\n",
              "      <th>Fonema</th>\n",
              "      <th>fo</th>\n",
              "      <th>f1</th>\n",
              "      <th>f2</th>\n",
              "      <th>f3</th>\n",
              "      <th>Codigo</th>\n",
              "    </tr>\n",
              "  </thead>\n",
              "  <tbody>\n",
              "    <tr>\n",
              "      <th>8</th>\n",
              "      <td>1</td>\n",
              "      <td>1</td>\n",
              "      <td>5</td>\n",
              "      <td>AA</td>\n",
              "      <td>144.0</td>\n",
              "      <td>590.0</td>\n",
              "      <td>1250.0</td>\n",
              "      <td>2620.0</td>\n",
              "      <td>17.0</td>\n",
              "    </tr>\n",
              "    <tr>\n",
              "      <th>9</th>\n",
              "      <td>1</td>\n",
              "      <td>1</td>\n",
              "      <td>5</td>\n",
              "      <td>AA</td>\n",
              "      <td>148.0</td>\n",
              "      <td>620.0</td>\n",
              "      <td>1300.0</td>\n",
              "      <td>2530.0</td>\n",
              "      <td>17.0</td>\n",
              "    </tr>\n",
              "    <tr>\n",
              "      <th>10</th>\n",
              "      <td>1</td>\n",
              "      <td>1</td>\n",
              "      <td>6</td>\n",
              "      <td>AA</td>\n",
              "      <td>148.0</td>\n",
              "      <td>740.0</td>\n",
              "      <td>1070.0</td>\n",
              "      <td>2490.0</td>\n",
              "      <td>15.0</td>\n",
              "    </tr>\n",
              "    <tr>\n",
              "      <th>11</th>\n",
              "      <td>1</td>\n",
              "      <td>1</td>\n",
              "      <td>6</td>\n",
              "      <td>AA</td>\n",
              "      <td>170.0</td>\n",
              "      <td>800.0</td>\n",
              "      <td>1060.0</td>\n",
              "      <td>2640.0</td>\n",
              "      <td>15.0</td>\n",
              "    </tr>\n",
              "    <tr>\n",
              "      <th>28</th>\n",
              "      <td>1</td>\n",
              "      <td>2</td>\n",
              "      <td>5</td>\n",
              "      <td>AA</td>\n",
              "      <td>140.0</td>\n",
              "      <td>650.0</td>\n",
              "      <td>1080.0</td>\n",
              "      <td>2420.0</td>\n",
              "      <td>2.0</td>\n",
              "    </tr>\n",
              "    <tr>\n",
              "      <th>...</th>\n",
              "      <td>...</td>\n",
              "      <td>...</td>\n",
              "      <td>...</td>\n",
              "      <td>...</td>\n",
              "      <td>...</td>\n",
              "      <td>...</td>\n",
              "      <td>...</td>\n",
              "      <td>...</td>\n",
              "      <td>...</td>\n",
              "    </tr>\n",
              "    <tr>\n",
              "      <th>631</th>\n",
              "      <td>1</td>\n",
              "      <td>32</td>\n",
              "      <td>6</td>\n",
              "      <td>AA</td>\n",
              "      <td>117.0</td>\n",
              "      <td>713.0</td>\n",
              "      <td>1180.0</td>\n",
              "      <td>2200.0</td>\n",
              "      <td>15.0</td>\n",
              "    </tr>\n",
              "    <tr>\n",
              "      <th>648</th>\n",
              "      <td>1</td>\n",
              "      <td>33</td>\n",
              "      <td>5</td>\n",
              "      <td>AA</td>\n",
              "      <td>143.0</td>\n",
              "      <td>672.0</td>\n",
              "      <td>1272.0</td>\n",
              "      <td>2640.0</td>\n",
              "      <td>17.0</td>\n",
              "    </tr>\n",
              "    <tr>\n",
              "      <th>649</th>\n",
              "      <td>1</td>\n",
              "      <td>33</td>\n",
              "      <td>5</td>\n",
              "      <td>AA</td>\n",
              "      <td>146.0</td>\n",
              "      <td>658.0</td>\n",
              "      <td>1241.0</td>\n",
              "      <td>2560.0</td>\n",
              "      <td>17.0</td>\n",
              "    </tr>\n",
              "    <tr>\n",
              "      <th>650</th>\n",
              "      <td>1</td>\n",
              "      <td>33</td>\n",
              "      <td>6</td>\n",
              "      <td>AA</td>\n",
              "      <td>130.0</td>\n",
              "      <td>780.0</td>\n",
              "      <td>1170.0</td>\n",
              "      <td>2640.0</td>\n",
              "      <td>15.0</td>\n",
              "    </tr>\n",
              "    <tr>\n",
              "      <th>651</th>\n",
              "      <td>1</td>\n",
              "      <td>33</td>\n",
              "      <td>6</td>\n",
              "      <td>AA</td>\n",
              "      <td>131.0</td>\n",
              "      <td>788.0</td>\n",
              "      <td>1115.0</td>\n",
              "      <td>2645.0</td>\n",
              "      <td>15.0</td>\n",
              "    </tr>\n",
              "  </tbody>\n",
              "</table>\n",
              "<p>104 rows × 9 columns</p>\n",
              "</div>"
            ],
            "text/plain": [
              "     Genero  Locutor  Tentativa Fonema     fo     f1      f2      f3  Codigo\n",
              "8         1        1          5     AA  144.0  590.0  1250.0  2620.0    17.0\n",
              "9         1        1          5     AA  148.0  620.0  1300.0  2530.0    17.0\n",
              "10        1        1          6     AA  148.0  740.0  1070.0  2490.0    15.0\n",
              "11        1        1          6     AA  170.0  800.0  1060.0  2640.0    15.0\n",
              "28        1        2          5     AA  140.0  650.0  1080.0  2420.0     2.0\n",
              "..      ...      ...        ...    ...    ...    ...     ...     ...     ...\n",
              "631       1       32          6     AA  117.0  713.0  1180.0  2200.0    15.0\n",
              "648       1       33          5     AA  143.0  672.0  1272.0  2640.0    17.0\n",
              "649       1       33          5     AA  146.0  658.0  1241.0  2560.0    17.0\n",
              "650       1       33          6     AA  130.0  780.0  1170.0  2640.0    15.0\n",
              "651       1       33          6     AA  131.0  788.0  1115.0  2645.0    15.0\n",
              "\n",
              "[104 rows x 9 columns]"
            ]
          },
          "execution_count": 126,
          "metadata": {},
          "output_type": "execute_result"
        }
      ],
      "source": [
        "# Separando dataframe para vogais com o fonema AA\n",
        "dfHomemA = dfHomem.loc[dfHomem['Fonema'] == \"AA\"]\n",
        "dfHomemA"
      ]
    },
    {
      "cell_type": "code",
      "execution_count": 127,
      "metadata": {},
      "outputs": [
        {
          "name": "stderr",
          "output_type": "stream",
          "text": [
            "C:\\Users\\STORM\\AppData\\Local\\Temp\\ipykernel_1584\\2260579539.py:3: FutureWarning:\n",
            "\n",
            "Dropping of nuisance columns in DataFrame reductions (with 'numeric_only=None') is deprecated; in a future version this will raise TypeError.  Select only valid columns before calling the reduction.\n",
            "\n",
            "C:\\Users\\STORM\\AppData\\Local\\Temp\\ipykernel_1584\\2260579539.py:4: FutureWarning:\n",
            "\n",
            "Dropping of nuisance columns in DataFrame reductions (with 'numeric_only=None') is deprecated; in a future version this will raise TypeError.  Select only valid columns before calling the reduction.\n",
            "\n"
          ]
        }
      ],
      "source": [
        "from scipy.io import savemat\n",
        "\n",
        "media = dfHomemA.mean()\n",
        "desvPad = dfHomemA.std()\n",
        "mediaMais2Dp = media+2*desvPad\n",
        "mediaMenos2Dp = media-2*desvPad\n",
        "f0m = mediaMenos2Dp['fo']\n",
        "f0M = mediaMais2Dp['fo']\n",
        "f1m = mediaMenos2Dp['f1']\n",
        "f1M = mediaMais2Dp['f1']\n",
        "f2m = mediaMenos2Dp['f2']\n",
        "f2M = mediaMais2Dp['f2']\n",
        "f3m = mediaMenos2Dp['f3']\n",
        "f3M = mediaMais2Dp['f3']\n",
        "formantesAmat = [[f0m, f0M], [f1m,f1M], [f2m, f2M] , [f3m, f3M]]\n",
        "formantesAmat\n",
        "\n",
        "mdic = {\"A\": formantesAmat, \"label\": \"experiment\"}\n",
        "\n",
        "savemat(\"matlab_matrixA.mat\", mdic)"
      ]
    },
    {
      "cell_type": "markdown",
      "metadata": {},
      "source": [
        "# Intervalos formantes e f0  vogal E"
      ]
    },
    {
      "cell_type": "code",
      "execution_count": 128,
      "metadata": {},
      "outputs": [
        {
          "data": {
            "text/html": [
              "<div>\n",
              "<style scoped>\n",
              "    .dataframe tbody tr th:only-of-type {\n",
              "        vertical-align: middle;\n",
              "    }\n",
              "\n",
              "    .dataframe tbody tr th {\n",
              "        vertical-align: top;\n",
              "    }\n",
              "\n",
              "    .dataframe thead th {\n",
              "        text-align: right;\n",
              "    }\n",
              "</style>\n",
              "<table border=\"1\" class=\"dataframe\">\n",
              "  <thead>\n",
              "    <tr style=\"text-align: right;\">\n",
              "      <th></th>\n",
              "      <th>Genero</th>\n",
              "      <th>Locutor</th>\n",
              "      <th>Tentativa</th>\n",
              "      <th>Fonema</th>\n",
              "      <th>fo</th>\n",
              "      <th>f1</th>\n",
              "      <th>f2</th>\n",
              "      <th>f3</th>\n",
              "      <th>Codigo</th>\n",
              "    </tr>\n",
              "  </thead>\n",
              "  <tbody>\n",
              "    <tr>\n",
              "      <th>4</th>\n",
              "      <td>1</td>\n",
              "      <td>1</td>\n",
              "      <td>3</td>\n",
              "      <td>EE</td>\n",
              "      <td>161.0</td>\n",
              "      <td>490.0</td>\n",
              "      <td>1870.0</td>\n",
              "      <td>2420.0</td>\n",
              "      <td>19.0</td>\n",
              "    </tr>\n",
              "    <tr>\n",
              "      <th>5</th>\n",
              "      <td>1</td>\n",
              "      <td>1</td>\n",
              "      <td>3</td>\n",
              "      <td>EE</td>\n",
              "      <td>155.0</td>\n",
              "      <td>570.0</td>\n",
              "      <td>1700.0</td>\n",
              "      <td>2600.0</td>\n",
              "      <td>4.0</td>\n",
              "    </tr>\n",
              "    <tr>\n",
              "      <th>24</th>\n",
              "      <td>1</td>\n",
              "      <td>2</td>\n",
              "      <td>3</td>\n",
              "      <td>EE</td>\n",
              "      <td>136.0</td>\n",
              "      <td>500.0</td>\n",
              "      <td>1760.0</td>\n",
              "      <td>2590.0</td>\n",
              "      <td>19.0</td>\n",
              "    </tr>\n",
              "    <tr>\n",
              "      <th>25</th>\n",
              "      <td>1</td>\n",
              "      <td>2</td>\n",
              "      <td>3</td>\n",
              "      <td>EE</td>\n",
              "      <td>135.0</td>\n",
              "      <td>510.0</td>\n",
              "      <td>1710.0</td>\n",
              "      <td>2380.0</td>\n",
              "      <td>4.0</td>\n",
              "    </tr>\n",
              "    <tr>\n",
              "      <th>44</th>\n",
              "      <td>1</td>\n",
              "      <td>3</td>\n",
              "      <td>3</td>\n",
              "      <td>EE</td>\n",
              "      <td>100.0</td>\n",
              "      <td>550.0</td>\n",
              "      <td>1810.0</td>\n",
              "      <td>2500.0</td>\n",
              "      <td>19.0</td>\n",
              "    </tr>\n",
              "    <tr>\n",
              "      <th>...</th>\n",
              "      <td>...</td>\n",
              "      <td>...</td>\n",
              "      <td>...</td>\n",
              "      <td>...</td>\n",
              "      <td>...</td>\n",
              "      <td>...</td>\n",
              "      <td>...</td>\n",
              "      <td>...</td>\n",
              "      <td>...</td>\n",
              "    </tr>\n",
              "    <tr>\n",
              "      <th>605</th>\n",
              "      <td>1</td>\n",
              "      <td>31</td>\n",
              "      <td>3</td>\n",
              "      <td>EE</td>\n",
              "      <td>111.0</td>\n",
              "      <td>555.0</td>\n",
              "      <td>1870.0</td>\n",
              "      <td>2540.0</td>\n",
              "      <td>19.0</td>\n",
              "    </tr>\n",
              "    <tr>\n",
              "      <th>624</th>\n",
              "      <td>1</td>\n",
              "      <td>32</td>\n",
              "      <td>3</td>\n",
              "      <td>EE</td>\n",
              "      <td>133.0</td>\n",
              "      <td>574.0</td>\n",
              "      <td>1840.0</td>\n",
              "      <td>2260.0</td>\n",
              "      <td>4.0</td>\n",
              "    </tr>\n",
              "    <tr>\n",
              "      <th>625</th>\n",
              "      <td>1</td>\n",
              "      <td>32</td>\n",
              "      <td>3</td>\n",
              "      <td>EE</td>\n",
              "      <td>133.0</td>\n",
              "      <td>563.0</td>\n",
              "      <td>1960.0</td>\n",
              "      <td>2450.0</td>\n",
              "      <td>4.0</td>\n",
              "    </tr>\n",
              "    <tr>\n",
              "      <th>644</th>\n",
              "      <td>1</td>\n",
              "      <td>33</td>\n",
              "      <td>3</td>\n",
              "      <td>EE</td>\n",
              "      <td>125.0</td>\n",
              "      <td>525.0</td>\n",
              "      <td>1988.0</td>\n",
              "      <td>2610.0</td>\n",
              "      <td>4.0</td>\n",
              "    </tr>\n",
              "    <tr>\n",
              "      <th>645</th>\n",
              "      <td>1</td>\n",
              "      <td>33</td>\n",
              "      <td>3</td>\n",
              "      <td>EE</td>\n",
              "      <td>144.0</td>\n",
              "      <td>553.0</td>\n",
              "      <td>1935.0</td>\n",
              "      <td>2530.0</td>\n",
              "      <td>19.0</td>\n",
              "    </tr>\n",
              "  </tbody>\n",
              "</table>\n",
              "<p>66 rows × 9 columns</p>\n",
              "</div>"
            ],
            "text/plain": [
              "     Genero  Locutor  Tentativa Fonema     fo     f1      f2      f3  Codigo\n",
              "4         1        1          3     EE  161.0  490.0  1870.0  2420.0    19.0\n",
              "5         1        1          3     EE  155.0  570.0  1700.0  2600.0     4.0\n",
              "24        1        2          3     EE  136.0  500.0  1760.0  2590.0    19.0\n",
              "25        1        2          3     EE  135.0  510.0  1710.0  2380.0     4.0\n",
              "44        1        3          3     EE  100.0  550.0  1810.0  2500.0    19.0\n",
              "..      ...      ...        ...    ...    ...    ...     ...     ...     ...\n",
              "605       1       31          3     EE  111.0  555.0  1870.0  2540.0    19.0\n",
              "624       1       32          3     EE  133.0  574.0  1840.0  2260.0     4.0\n",
              "625       1       32          3     EE  133.0  563.0  1960.0  2450.0     4.0\n",
              "644       1       33          3     EE  125.0  525.0  1988.0  2610.0     4.0\n",
              "645       1       33          3     EE  144.0  553.0  1935.0  2530.0    19.0\n",
              "\n",
              "[66 rows x 9 columns]"
            ]
          },
          "execution_count": 128,
          "metadata": {},
          "output_type": "execute_result"
        }
      ],
      "source": [
        "# Separando dataframe para vogais com o fonema EE\n",
        "dfHomemE = dfHomem.loc[dfHomem['Fonema'] == \"EE\"]\n",
        "dfHomemE"
      ]
    },
    {
      "cell_type": "code",
      "execution_count": 129,
      "metadata": {},
      "outputs": [
        {
          "name": "stderr",
          "output_type": "stream",
          "text": [
            "C:\\Users\\STORM\\AppData\\Local\\Temp\\ipykernel_1584\\499482407.py:1: FutureWarning:\n",
            "\n",
            "Dropping of nuisance columns in DataFrame reductions (with 'numeric_only=None') is deprecated; in a future version this will raise TypeError.  Select only valid columns before calling the reduction.\n",
            "\n",
            "C:\\Users\\STORM\\AppData\\Local\\Temp\\ipykernel_1584\\499482407.py:2: FutureWarning:\n",
            "\n",
            "Dropping of nuisance columns in DataFrame reductions (with 'numeric_only=None') is deprecated; in a future version this will raise TypeError.  Select only valid columns before calling the reduction.\n",
            "\n"
          ]
        },
        {
          "data": {
            "text/plain": [
              "[[93.61921214621412, 163.1989696719677],\n",
              " [408.75803253086644, 643.635906863073],\n",
              " [1626.4239423313206, 2082.3942394868614],\n",
              " [2216.4414830534915, 2746.4373048252965]]"
            ]
          },
          "execution_count": 129,
          "metadata": {},
          "output_type": "execute_result"
        }
      ],
      "source": [
        "media = dfHomemE.mean()\n",
        "desvPad = dfHomemE.std()\n",
        "mediaMais2Dp = media+2*desvPad\n",
        "mediaMenos2Dp = media-2*desvPad\n",
        "f0m = mediaMenos2Dp['fo']\n",
        "f0M = mediaMais2Dp['fo']\n",
        "f1m = mediaMenos2Dp['f1']\n",
        "f1M = mediaMais2Dp['f1']\n",
        "f2m = mediaMenos2Dp['f2']\n",
        "f2M = mediaMais2Dp['f2']\n",
        "f3m = mediaMenos2Dp['f3']\n",
        "f3M = mediaMais2Dp['f3']\n",
        "formantesEmat = [[f0m, f0M], [f1m,f1M], [f2m, f2M] , [f3m, f3M]]\n",
        "formantesEmat\n",
        "\n",
        "mdic = {\"E\": formantesEmat, \"label\": \"experiment\"}\n",
        "\n",
        "savemat(\"matlab_matrixE.mat\", mdic)\n",
        "formantesEmat"
      ]
    },
    {
      "cell_type": "markdown",
      "metadata": {},
      "source": [
        "# Intervalos formantes e f0  vogal I"
      ]
    },
    {
      "cell_type": "code",
      "execution_count": 130,
      "metadata": {},
      "outputs": [
        {
          "data": {
            "text/html": [
              "<div>\n",
              "<style scoped>\n",
              "    .dataframe tbody tr th:only-of-type {\n",
              "        vertical-align: middle;\n",
              "    }\n",
              "\n",
              "    .dataframe tbody tr th {\n",
              "        vertical-align: top;\n",
              "    }\n",
              "\n",
              "    .dataframe thead th {\n",
              "        text-align: right;\n",
              "    }\n",
              "</style>\n",
              "<table border=\"1\" class=\"dataframe\">\n",
              "  <thead>\n",
              "    <tr style=\"text-align: right;\">\n",
              "      <th></th>\n",
              "      <th>Genero</th>\n",
              "      <th>Locutor</th>\n",
              "      <th>Tentativa</th>\n",
              "      <th>Fonema</th>\n",
              "      <th>fo</th>\n",
              "      <th>f1</th>\n",
              "      <th>f2</th>\n",
              "      <th>f3</th>\n",
              "      <th>Codigo</th>\n",
              "    </tr>\n",
              "  </thead>\n",
              "  <tbody>\n",
              "    <tr>\n",
              "      <th>0</th>\n",
              "      <td>1</td>\n",
              "      <td>1</td>\n",
              "      <td>1</td>\n",
              "      <td>II</td>\n",
              "      <td>160.0</td>\n",
              "      <td>240.0</td>\n",
              "      <td>2280.0</td>\n",
              "      <td>2850.0</td>\n",
              "      <td>22.0</td>\n",
              "    </tr>\n",
              "    <tr>\n",
              "      <th>1</th>\n",
              "      <td>1</td>\n",
              "      <td>1</td>\n",
              "      <td>1</td>\n",
              "      <td>II</td>\n",
              "      <td>186.0</td>\n",
              "      <td>280.0</td>\n",
              "      <td>2400.0</td>\n",
              "      <td>2790.0</td>\n",
              "      <td>22.0</td>\n",
              "    </tr>\n",
              "    <tr>\n",
              "      <th>20</th>\n",
              "      <td>1</td>\n",
              "      <td>2</td>\n",
              "      <td>1</td>\n",
              "      <td>II</td>\n",
              "      <td>147.0</td>\n",
              "      <td>220.0</td>\n",
              "      <td>2220.0</td>\n",
              "      <td>2910.0</td>\n",
              "      <td>22.0</td>\n",
              "    </tr>\n",
              "    <tr>\n",
              "      <th>21</th>\n",
              "      <td>1</td>\n",
              "      <td>2</td>\n",
              "      <td>1</td>\n",
              "      <td>II</td>\n",
              "      <td>148.0</td>\n",
              "      <td>210.0</td>\n",
              "      <td>2360.0</td>\n",
              "      <td>3250.0</td>\n",
              "      <td>22.0</td>\n",
              "    </tr>\n",
              "    <tr>\n",
              "      <th>40</th>\n",
              "      <td>1</td>\n",
              "      <td>3</td>\n",
              "      <td>1</td>\n",
              "      <td>II</td>\n",
              "      <td>105.0</td>\n",
              "      <td>250.0</td>\n",
              "      <td>2180.0</td>\n",
              "      <td>2680.0</td>\n",
              "      <td>22.0</td>\n",
              "    </tr>\n",
              "    <tr>\n",
              "      <th>...</th>\n",
              "      <td>...</td>\n",
              "      <td>...</td>\n",
              "      <td>...</td>\n",
              "      <td>...</td>\n",
              "      <td>...</td>\n",
              "      <td>...</td>\n",
              "      <td>...</td>\n",
              "      <td>...</td>\n",
              "      <td>...</td>\n",
              "    </tr>\n",
              "    <tr>\n",
              "      <th>601</th>\n",
              "      <td>1</td>\n",
              "      <td>31</td>\n",
              "      <td>1</td>\n",
              "      <td>II</td>\n",
              "      <td>120.0</td>\n",
              "      <td>300.0</td>\n",
              "      <td>2350.0</td>\n",
              "      <td>3000.0</td>\n",
              "      <td>22.0</td>\n",
              "    </tr>\n",
              "    <tr>\n",
              "      <th>620</th>\n",
              "      <td>1</td>\n",
              "      <td>32</td>\n",
              "      <td>1</td>\n",
              "      <td>II</td>\n",
              "      <td>146.0</td>\n",
              "      <td>292.0</td>\n",
              "      <td>2500.0</td>\n",
              "      <td>3150.0</td>\n",
              "      <td>22.0</td>\n",
              "    </tr>\n",
              "    <tr>\n",
              "      <th>621</th>\n",
              "      <td>1</td>\n",
              "      <td>32</td>\n",
              "      <td>1</td>\n",
              "      <td>II</td>\n",
              "      <td>133.0</td>\n",
              "      <td>266.0</td>\n",
              "      <td>2370.0</td>\n",
              "      <td>3100.0</td>\n",
              "      <td>22.0</td>\n",
              "    </tr>\n",
              "    <tr>\n",
              "      <th>640</th>\n",
              "      <td>1</td>\n",
              "      <td>33</td>\n",
              "      <td>1</td>\n",
              "      <td>II</td>\n",
              "      <td>143.0</td>\n",
              "      <td>286.0</td>\n",
              "      <td>2415.0</td>\n",
              "      <td>2860.0</td>\n",
              "      <td>22.0</td>\n",
              "    </tr>\n",
              "    <tr>\n",
              "      <th>641</th>\n",
              "      <td>1</td>\n",
              "      <td>33</td>\n",
              "      <td>1</td>\n",
              "      <td>II</td>\n",
              "      <td>150.0</td>\n",
              "      <td>300.0</td>\n",
              "      <td>2415.0</td>\n",
              "      <td>2860.0</td>\n",
              "      <td>22.0</td>\n",
              "    </tr>\n",
              "  </tbody>\n",
              "</table>\n",
              "<p>66 rows × 9 columns</p>\n",
              "</div>"
            ],
            "text/plain": [
              "     Genero  Locutor  Tentativa Fonema     fo     f1      f2      f3  Codigo\n",
              "0         1        1          1     II  160.0  240.0  2280.0  2850.0    22.0\n",
              "1         1        1          1     II  186.0  280.0  2400.0  2790.0    22.0\n",
              "20        1        2          1     II  147.0  220.0  2220.0  2910.0    22.0\n",
              "21        1        2          1     II  148.0  210.0  2360.0  3250.0    22.0\n",
              "40        1        3          1     II  105.0  250.0  2180.0  2680.0    22.0\n",
              "..      ...      ...        ...    ...    ...    ...     ...     ...     ...\n",
              "601       1       31          1     II  120.0  300.0  2350.0  3000.0    22.0\n",
              "620       1       32          1     II  146.0  292.0  2500.0  3150.0    22.0\n",
              "621       1       32          1     II  133.0  266.0  2370.0  3100.0    22.0\n",
              "640       1       33          1     II  143.0  286.0  2415.0  2860.0    22.0\n",
              "641       1       33          1     II  150.0  300.0  2415.0  2860.0    22.0\n",
              "\n",
              "[66 rows x 9 columns]"
            ]
          },
          "execution_count": 130,
          "metadata": {},
          "output_type": "execute_result"
        }
      ],
      "source": [
        "# Separando dataframe para vogais com o fonema II\n",
        "dfHomemI = dfHomem.loc[dfHomem['Fonema'] == \"II\"]\n",
        "dfHomemI"
      ]
    },
    {
      "cell_type": "code",
      "execution_count": 131,
      "metadata": {},
      "outputs": [
        {
          "name": "stderr",
          "output_type": "stream",
          "text": [
            "C:\\Users\\STORM\\AppData\\Local\\Temp\\ipykernel_1584\\4225988927.py:1: FutureWarning:\n",
            "\n",
            "Dropping of nuisance columns in DataFrame reductions (with 'numeric_only=None') is deprecated; in a future version this will raise TypeError.  Select only valid columns before calling the reduction.\n",
            "\n",
            "C:\\Users\\STORM\\AppData\\Local\\Temp\\ipykernel_1584\\4225988927.py:2: FutureWarning:\n",
            "\n",
            "Dropping of nuisance columns in DataFrame reductions (with 'numeric_only=None') is deprecated; in a future version this will raise TypeError.  Select only valid columns before calling the reduction.\n",
            "\n"
          ]
        }
      ],
      "source": [
        "media = dfHomemI.mean()\n",
        "desvPad = dfHomemI.std()\n",
        "mediaMais2Dp = media+2*desvPad\n",
        "mediaMenos2Dp = media-2*desvPad\n",
        "f0m = mediaMenos2Dp['fo']\n",
        "f0M = mediaMais2Dp['fo']\n",
        "f1m = mediaMenos2Dp['f1']\n",
        "f1M = mediaMais2Dp['f1']\n",
        "f2m = mediaMenos2Dp['f2']\n",
        "f2M = mediaMais2Dp['f2']\n",
        "f3m = mediaMenos2Dp['f3']\n",
        "f3M = mediaMais2Dp['f3']\n",
        "formantesImat = [[f0m, f0M], [f1m,f1M], [f2m, f2M] , [f3m, f3M]]\n",
        "formantesImat\n",
        "\n",
        "mdic = {\"I\": formantesImat, \"label\": \"experiment\"}\n",
        "\n",
        "savemat(\"matlab_matrixI.mat\", mdic)"
      ]
    },
    {
      "cell_type": "markdown",
      "metadata": {},
      "source": [
        "# Intervalos formantes e f0  vogal O"
      ]
    },
    {
      "cell_type": "code",
      "execution_count": 132,
      "metadata": {},
      "outputs": [
        {
          "data": {
            "text/html": [
              "<div>\n",
              "<style scoped>\n",
              "    .dataframe tbody tr th:only-of-type {\n",
              "        vertical-align: middle;\n",
              "    }\n",
              "\n",
              "    .dataframe tbody tr th {\n",
              "        vertical-align: top;\n",
              "    }\n",
              "\n",
              "    .dataframe thead th {\n",
              "        text-align: right;\n",
              "    }\n",
              "</style>\n",
              "<table border=\"1\" class=\"dataframe\">\n",
              "  <thead>\n",
              "    <tr style=\"text-align: right;\">\n",
              "      <th></th>\n",
              "      <th>Genero</th>\n",
              "      <th>Locutor</th>\n",
              "      <th>Tentativa</th>\n",
              "      <th>Fonema</th>\n",
              "      <th>fo</th>\n",
              "      <th>f1</th>\n",
              "      <th>f2</th>\n",
              "      <th>f3</th>\n",
              "      <th>Codigo</th>\n",
              "    </tr>\n",
              "  </thead>\n",
              "  <tbody>\n",
              "    <tr>\n",
              "      <th>12</th>\n",
              "      <td>1</td>\n",
              "      <td>1</td>\n",
              "      <td>7</td>\n",
              "      <td>OO</td>\n",
              "      <td>161.0</td>\n",
              "      <td>600.0</td>\n",
              "      <td>970.0</td>\n",
              "      <td>2280.0</td>\n",
              "      <td>3.0</td>\n",
              "    </tr>\n",
              "    <tr>\n",
              "      <th>13</th>\n",
              "      <td>1</td>\n",
              "      <td>1</td>\n",
              "      <td>7</td>\n",
              "      <td>OO</td>\n",
              "      <td>158.0</td>\n",
              "      <td>660.0</td>\n",
              "      <td>980.0</td>\n",
              "      <td>2220.0</td>\n",
              "      <td>3.0</td>\n",
              "    </tr>\n",
              "    <tr>\n",
              "      <th>32</th>\n",
              "      <td>1</td>\n",
              "      <td>2</td>\n",
              "      <td>7</td>\n",
              "      <td>OO</td>\n",
              "      <td>149.0</td>\n",
              "      <td>580.0</td>\n",
              "      <td>580.0</td>\n",
              "      <td>2470.0</td>\n",
              "      <td>18.0</td>\n",
              "    </tr>\n",
              "    <tr>\n",
              "      <th>33</th>\n",
              "      <td>1</td>\n",
              "      <td>2</td>\n",
              "      <td>7</td>\n",
              "      <td>OO</td>\n",
              "      <td>140.0</td>\n",
              "      <td>560.0</td>\n",
              "      <td>560.0</td>\n",
              "      <td>2410.0</td>\n",
              "      <td>18.0</td>\n",
              "    </tr>\n",
              "    <tr>\n",
              "      <th>52</th>\n",
              "      <td>1</td>\n",
              "      <td>3</td>\n",
              "      <td>7</td>\n",
              "      <td>OO</td>\n",
              "      <td>92.0</td>\n",
              "      <td>550.0</td>\n",
              "      <td>870.0</td>\n",
              "      <td>2300.0</td>\n",
              "      <td>18.0</td>\n",
              "    </tr>\n",
              "    <tr>\n",
              "      <th>...</th>\n",
              "      <td>...</td>\n",
              "      <td>...</td>\n",
              "      <td>...</td>\n",
              "      <td>...</td>\n",
              "      <td>...</td>\n",
              "      <td>...</td>\n",
              "      <td>...</td>\n",
              "      <td>...</td>\n",
              "      <td>...</td>\n",
              "    </tr>\n",
              "    <tr>\n",
              "      <th>613</th>\n",
              "      <td>1</td>\n",
              "      <td>31</td>\n",
              "      <td>7</td>\n",
              "      <td>OO</td>\n",
              "      <td>116.0</td>\n",
              "      <td>538.0</td>\n",
              "      <td>816.0</td>\n",
              "      <td>2450.0</td>\n",
              "      <td>18.0</td>\n",
              "    </tr>\n",
              "    <tr>\n",
              "      <th>632</th>\n",
              "      <td>1</td>\n",
              "      <td>32</td>\n",
              "      <td>7</td>\n",
              "      <td>OO</td>\n",
              "      <td>125.0</td>\n",
              "      <td>625.0</td>\n",
              "      <td>875.0</td>\n",
              "      <td>2180.0</td>\n",
              "      <td>18.0</td>\n",
              "    </tr>\n",
              "    <tr>\n",
              "      <th>633</th>\n",
              "      <td>1</td>\n",
              "      <td>32</td>\n",
              "      <td>7</td>\n",
              "      <td>OO</td>\n",
              "      <td>115.0</td>\n",
              "      <td>700.0</td>\n",
              "      <td>1000.0</td>\n",
              "      <td>2250.0</td>\n",
              "      <td>3.0</td>\n",
              "    </tr>\n",
              "    <tr>\n",
              "      <th>652</th>\n",
              "      <td>1</td>\n",
              "      <td>33</td>\n",
              "      <td>7</td>\n",
              "      <td>OO</td>\n",
              "      <td>138.0</td>\n",
              "      <td>633.0</td>\n",
              "      <td>891.0</td>\n",
              "      <td>2500.0</td>\n",
              "      <td>3.0</td>\n",
              "    </tr>\n",
              "    <tr>\n",
              "      <th>653</th>\n",
              "      <td>1</td>\n",
              "      <td>33</td>\n",
              "      <td>7</td>\n",
              "      <td>OO</td>\n",
              "      <td>150.0</td>\n",
              "      <td>600.0</td>\n",
              "      <td>935.0</td>\n",
              "      <td>2550.0</td>\n",
              "      <td>3.0</td>\n",
              "    </tr>\n",
              "  </tbody>\n",
              "</table>\n",
              "<p>66 rows × 9 columns</p>\n",
              "</div>"
            ],
            "text/plain": [
              "     Genero  Locutor  Tentativa Fonema     fo     f1      f2      f3  Codigo\n",
              "12        1        1          7     OO  161.0  600.0   970.0  2280.0     3.0\n",
              "13        1        1          7     OO  158.0  660.0   980.0  2220.0     3.0\n",
              "32        1        2          7     OO  149.0  580.0   580.0  2470.0    18.0\n",
              "33        1        2          7     OO  140.0  560.0   560.0  2410.0    18.0\n",
              "52        1        3          7     OO   92.0  550.0   870.0  2300.0    18.0\n",
              "..      ...      ...        ...    ...    ...    ...     ...     ...     ...\n",
              "613       1       31          7     OO  116.0  538.0   816.0  2450.0    18.0\n",
              "632       1       32          7     OO  125.0  625.0   875.0  2180.0    18.0\n",
              "633       1       32          7     OO  115.0  700.0  1000.0  2250.0     3.0\n",
              "652       1       33          7     OO  138.0  633.0   891.0  2500.0     3.0\n",
              "653       1       33          7     OO  150.0  600.0   935.0  2550.0     3.0\n",
              "\n",
              "[66 rows x 9 columns]"
            ]
          },
          "execution_count": 132,
          "metadata": {},
          "output_type": "execute_result"
        }
      ],
      "source": [
        "# Separando dataframe para vogais com o fonema OO\n",
        "dfHomemO = dfHomem.loc[dfHomem['Fonema'] == \"OO\"]\n",
        "dfHomemO"
      ]
    },
    {
      "cell_type": "code",
      "execution_count": 133,
      "metadata": {},
      "outputs": [
        {
          "name": "stderr",
          "output_type": "stream",
          "text": [
            "C:\\Users\\STORM\\AppData\\Local\\Temp\\ipykernel_1584\\4261808303.py:1: FutureWarning:\n",
            "\n",
            "Dropping of nuisance columns in DataFrame reductions (with 'numeric_only=None') is deprecated; in a future version this will raise TypeError.  Select only valid columns before calling the reduction.\n",
            "\n",
            "C:\\Users\\STORM\\AppData\\Local\\Temp\\ipykernel_1584\\4261808303.py:2: FutureWarning:\n",
            "\n",
            "Dropping of nuisance columns in DataFrame reductions (with 'numeric_only=None') is deprecated; in a future version this will raise TypeError.  Select only valid columns before calling the reduction.\n",
            "\n"
          ]
        }
      ],
      "source": [
        "media = dfHomemO.mean()\n",
        "desvPad = dfHomemO.std()\n",
        "mediaMais2Dp = media+2*desvPad\n",
        "mediaMenos2Dp = media-2*desvPad\n",
        "f0m = mediaMenos2Dp['fo']\n",
        "f0M = mediaMais2Dp['fo']\n",
        "f1m = mediaMenos2Dp['f1']\n",
        "f1M = mediaMais2Dp['f1']\n",
        "f2m = mediaMenos2Dp['f2']\n",
        "f2M = mediaMais2Dp['f2']\n",
        "f3m = mediaMenos2Dp['f3']\n",
        "f3M = mediaMais2Dp['f3']\n",
        "formantesOmat = [[f0m, f0M], [f1m,f1M], [f2m, f2M] , [f3m, f3M]]\n",
        "formantesOmat\n",
        "\n",
        "mdic = {\"O\": formantesOmat, \"label\": \"experiment\"}\n",
        "\n",
        "savemat(\"matlab_matrixO.mat\", mdic)"
      ]
    },
    {
      "cell_type": "markdown",
      "metadata": {},
      "source": [
        "# Intervalos formantes e f0  vogal U"
      ]
    },
    {
      "cell_type": "code",
      "execution_count": 134,
      "metadata": {},
      "outputs": [
        {
          "data": {
            "text/html": [
              "<div>\n",
              "<style scoped>\n",
              "    .dataframe tbody tr th:only-of-type {\n",
              "        vertical-align: middle;\n",
              "    }\n",
              "\n",
              "    .dataframe tbody tr th {\n",
              "        vertical-align: top;\n",
              "    }\n",
              "\n",
              "    .dataframe thead th {\n",
              "        text-align: right;\n",
              "    }\n",
              "</style>\n",
              "<table border=\"1\" class=\"dataframe\">\n",
              "  <thead>\n",
              "    <tr style=\"text-align: right;\">\n",
              "      <th></th>\n",
              "      <th>Genero</th>\n",
              "      <th>Locutor</th>\n",
              "      <th>Tentativa</th>\n",
              "      <th>Fonema</th>\n",
              "      <th>fo</th>\n",
              "      <th>f1</th>\n",
              "      <th>f2</th>\n",
              "      <th>f3</th>\n",
              "      <th>Codigo</th>\n",
              "    </tr>\n",
              "  </thead>\n",
              "  <tbody>\n",
              "    <tr>\n",
              "      <th>16</th>\n",
              "      <td>1</td>\n",
              "      <td>1</td>\n",
              "      <td>9</td>\n",
              "      <td>UU</td>\n",
              "      <td>160.0</td>\n",
              "      <td>240.0</td>\n",
              "      <td>1040.0</td>\n",
              "      <td>2150.0</td>\n",
              "      <td>24.0</td>\n",
              "    </tr>\n",
              "    <tr>\n",
              "      <th>17</th>\n",
              "      <td>1</td>\n",
              "      <td>1</td>\n",
              "      <td>9</td>\n",
              "      <td>UU</td>\n",
              "      <td>157.0</td>\n",
              "      <td>270.0</td>\n",
              "      <td>930.0</td>\n",
              "      <td>2280.0</td>\n",
              "      <td>24.0</td>\n",
              "    </tr>\n",
              "    <tr>\n",
              "      <th>36</th>\n",
              "      <td>1</td>\n",
              "      <td>2</td>\n",
              "      <td>9</td>\n",
              "      <td>UU</td>\n",
              "      <td>140.0</td>\n",
              "      <td>280.0</td>\n",
              "      <td>650.0</td>\n",
              "      <td>3300.0</td>\n",
              "      <td>24.0</td>\n",
              "    </tr>\n",
              "    <tr>\n",
              "      <th>37</th>\n",
              "      <td>1</td>\n",
              "      <td>2</td>\n",
              "      <td>9</td>\n",
              "      <td>UU</td>\n",
              "      <td>137.0</td>\n",
              "      <td>260.0</td>\n",
              "      <td>660.0</td>\n",
              "      <td>3300.0</td>\n",
              "      <td>24.0</td>\n",
              "    </tr>\n",
              "    <tr>\n",
              "      <th>56</th>\n",
              "      <td>1</td>\n",
              "      <td>3</td>\n",
              "      <td>9</td>\n",
              "      <td>UU</td>\n",
              "      <td>112.0</td>\n",
              "      <td>340.0</td>\n",
              "      <td>950.0</td>\n",
              "      <td>2240.0</td>\n",
              "      <td>24.0</td>\n",
              "    </tr>\n",
              "    <tr>\n",
              "      <th>...</th>\n",
              "      <td>...</td>\n",
              "      <td>...</td>\n",
              "      <td>...</td>\n",
              "      <td>...</td>\n",
              "      <td>...</td>\n",
              "      <td>...</td>\n",
              "      <td>...</td>\n",
              "      <td>...</td>\n",
              "      <td>...</td>\n",
              "    </tr>\n",
              "    <tr>\n",
              "      <th>617</th>\n",
              "      <td>1</td>\n",
              "      <td>31</td>\n",
              "      <td>9</td>\n",
              "      <td>UU</td>\n",
              "      <td>125.0</td>\n",
              "      <td>350.0</td>\n",
              "      <td>1000.0</td>\n",
              "      <td>2250.0</td>\n",
              "      <td>24.0</td>\n",
              "    </tr>\n",
              "    <tr>\n",
              "      <th>636</th>\n",
              "      <td>1</td>\n",
              "      <td>32</td>\n",
              "      <td>9</td>\n",
              "      <td>UU</td>\n",
              "      <td>125.0</td>\n",
              "      <td>350.0</td>\n",
              "      <td>980.0</td>\n",
              "      <td>2200.0</td>\n",
              "      <td>24.0</td>\n",
              "    </tr>\n",
              "    <tr>\n",
              "      <th>637</th>\n",
              "      <td>1</td>\n",
              "      <td>32</td>\n",
              "      <td>9</td>\n",
              "      <td>UU</td>\n",
              "      <td>133.0</td>\n",
              "      <td>320.0</td>\n",
              "      <td>918.0</td>\n",
              "      <td>2100.0</td>\n",
              "      <td>24.0</td>\n",
              "    </tr>\n",
              "    <tr>\n",
              "      <th>656</th>\n",
              "      <td>1</td>\n",
              "      <td>33</td>\n",
              "      <td>9</td>\n",
              "      <td>UU</td>\n",
              "      <td>160.0</td>\n",
              "      <td>320.0</td>\n",
              "      <td>960.0</td>\n",
              "      <td>2240.0</td>\n",
              "      <td>9.0</td>\n",
              "    </tr>\n",
              "    <tr>\n",
              "      <th>657</th>\n",
              "      <td>1</td>\n",
              "      <td>33</td>\n",
              "      <td>9</td>\n",
              "      <td>UU</td>\n",
              "      <td>160.0</td>\n",
              "      <td>320.0</td>\n",
              "      <td>960.0</td>\n",
              "      <td>2290.0</td>\n",
              "      <td>24.0</td>\n",
              "    </tr>\n",
              "  </tbody>\n",
              "</table>\n",
              "<p>66 rows × 9 columns</p>\n",
              "</div>"
            ],
            "text/plain": [
              "     Genero  Locutor  Tentativa Fonema     fo     f1      f2      f3  Codigo\n",
              "16        1        1          9     UU  160.0  240.0  1040.0  2150.0    24.0\n",
              "17        1        1          9     UU  157.0  270.0   930.0  2280.0    24.0\n",
              "36        1        2          9     UU  140.0  280.0   650.0  3300.0    24.0\n",
              "37        1        2          9     UU  137.0  260.0   660.0  3300.0    24.0\n",
              "56        1        3          9     UU  112.0  340.0   950.0  2240.0    24.0\n",
              "..      ...      ...        ...    ...    ...    ...     ...     ...     ...\n",
              "617       1       31          9     UU  125.0  350.0  1000.0  2250.0    24.0\n",
              "636       1       32          9     UU  125.0  350.0   980.0  2200.0    24.0\n",
              "637       1       32          9     UU  133.0  320.0   918.0  2100.0    24.0\n",
              "656       1       33          9     UU  160.0  320.0   960.0  2240.0     9.0\n",
              "657       1       33          9     UU  160.0  320.0   960.0  2290.0    24.0\n",
              "\n",
              "[66 rows x 9 columns]"
            ]
          },
          "execution_count": 134,
          "metadata": {},
          "output_type": "execute_result"
        }
      ],
      "source": [
        "# Separando dataframe para vogais com o fonema UU\n",
        "dfHomemU = dfHomem.loc[dfHomem['Fonema'] == \"UU\"]\n",
        "dfHomemU"
      ]
    },
    {
      "cell_type": "code",
      "execution_count": 135,
      "metadata": {},
      "outputs": [
        {
          "name": "stderr",
          "output_type": "stream",
          "text": [
            "C:\\Users\\STORM\\AppData\\Local\\Temp\\ipykernel_1584\\3642215726.py:1: FutureWarning:\n",
            "\n",
            "Dropping of nuisance columns in DataFrame reductions (with 'numeric_only=None') is deprecated; in a future version this will raise TypeError.  Select only valid columns before calling the reduction.\n",
            "\n",
            "C:\\Users\\STORM\\AppData\\Local\\Temp\\ipykernel_1584\\3642215726.py:2: FutureWarning:\n",
            "\n",
            "Dropping of nuisance columns in DataFrame reductions (with 'numeric_only=None') is deprecated; in a future version this will raise TypeError.  Select only valid columns before calling the reduction.\n",
            "\n"
          ]
        }
      ],
      "source": [
        "media = dfHomemU.mean()\n",
        "desvPad = dfHomemU.std()\n",
        "mediaMais2Dp = media+2*desvPad\n",
        "mediaMenos2Dp = media-2*desvPad\n",
        "f0m = mediaMenos2Dp['fo']\n",
        "f0M = mediaMais2Dp['fo']\n",
        "f1m = mediaMenos2Dp['f1']\n",
        "f1M = mediaMais2Dp['f1']\n",
        "f2m = mediaMenos2Dp['f2']\n",
        "f2M = mediaMais2Dp['f2']\n",
        "f3m = mediaMenos2Dp['f3']\n",
        "f3M = mediaMais2Dp['f3']\n",
        "formantesUmat = [[f0m, f0M], [f1m,f1M], [f2m, f2M] , [f3m, f3M]]\n",
        "formantesUmat\n",
        "\n",
        "mdic = {\"U\": formantesUmat, \"label\": \"experiment\"}\n",
        "\n",
        "savemat(\"matlab_matrixU.mat\", mdic)"
      ]
    },
    {
      "cell_type": "markdown",
      "metadata": {
        "id": "YfPKY4CGXOEM"
      },
      "source": [
        "# **Referências**"
      ]
    },
    {
      "cell_type": "markdown",
      "metadata": {
        "id": "hYaC-FrxXR14"
      },
      "source": [
        "https://www.fon.hum.uva.nl/praat/"
      ]
    },
    {
      "cell_type": "markdown",
      "metadata": {
        "id": "jOAGUnQ7XWT4"
      },
      "source": [
        "https://rdrr.io/cran/phonTools/man/pb52.html#heading-3"
      ]
    },
    {
      "cell_type": "markdown",
      "metadata": {
        "id": "GyqzA8boXZqP"
      },
      "source": [
        "http://my.ilstu.edu/~jsawyer/consonantsvowels3/consonantsvowels24.html"
      ]
    }
  ],
  "metadata": {
    "colab": {
      "name": "Voz.ipynb",
      "provenance": []
    },
    "kernelspec": {
      "display_name": "Python 3.9.13 64-bit (windows store)",
      "language": "python",
      "name": "python3"
    },
    "language_info": {
      "codemirror_mode": {
        "name": "ipython",
        "version": 3
      },
      "file_extension": ".py",
      "mimetype": "text/x-python",
      "name": "python",
      "nbconvert_exporter": "python",
      "pygments_lexer": "ipython3",
      "version": "3.9.13"
    },
    "vscode": {
      "interpreter": {
        "hash": "5405d358ce7193976977390717ecdfa00f4a32b6b43d10fb8824297b8cc6d47c"
      }
    }
  },
  "nbformat": 4,
  "nbformat_minor": 0
}
